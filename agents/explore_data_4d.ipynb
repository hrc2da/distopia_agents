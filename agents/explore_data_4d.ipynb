{
 "cells": [
  {
   "cell_type": "code",
   "execution_count": 289,
   "metadata": {
    "pycharm": {
     "is_executing": false
    }
   },
   "outputs": [],
   "source": [
    "from threading import Thread\n",
    "from agents.bfilter import BayesFilter\n",
    "from agents.utils import hierarchical_sort, str2arr\n",
    "from agents.plot_hist import plot_hist\n",
    "\n",
    "import json\n",
    "import numpy as np\n",
    "import pickle as pkl\n",
    "from sklearn.neighbors import KernelDensity\n",
    "from sklearn.decomposition import PCA\n",
    "from sklearn.metrics import confusion_matrix\n",
    "import itertools\n",
    "from sklearn.metrics import confusion_matrix\n",
    "from matplotlib import pyplot as plt\n",
    "import seaborn as sns\n",
    "from multiprocessing import Pool, Queue\n",
    "from tqdm import tqdm, tqdm_notebook, tnrange"
   ]
  },
  {
   "cell_type": "code",
   "execution_count": 91,
   "metadata": {
    "pycharm": {
     "is_executing": false,
     "name": "#%%\n"
    }
   },
   "outputs": [],
   "source": [
    "# set filenames\n",
    "# data we're standardizing on (from the one-hots)\n",
    "standardization_f = 'resources/stripped_normalization.pkl'\n",
    "\n",
    "# training data for kdes, this should be a dict of metrics keyed on task\n",
    "training_f = 'resources/243_raw_data.pkl' \n",
    "\n",
    "# test data for kdes. this includes the task, metrics, and beliefs\n",
    "test_f ='results/results_file_full_243_run0_90_each'\n",
    "\n"
   ]
  },
  {
   "cell_type": "code",
   "execution_count": 92,
   "metadata": {
    "pycharm": {
     "is_executing": false,
     "name": "#%%\n"
    }
   },
   "outputs": [
    {
     "name": "stdout",
     "output_type": "stream",
     "text": [
      "(4,) (4,)\n",
      "[7.02134345e+05 1.32097649e+05 2.18597774e-01 4.19621716e-01] [2.07865180e+05 5.35621885e+04 5.92860480e-02 2.26446118e-02]\n"
     ]
    }
   ],
   "source": [
    "# load the standardization params\n",
    "with open(standardization_f,'rb') as sfile:\n",
    "    standard_m, standard_std = pkl.load(sfile)\n",
    "    standard_m = standard_m[:-1]\n",
    "    standard_std = standard_std[:-1]\n",
    "print(standard_m.shape,standard_std.shape)\n",
    "print(standard_m,standard_std)"
   ]
  },
  {
   "cell_type": "code",
   "execution_count": 249,
   "metadata": {
    "pycharm": {
     "is_executing": false,
     "name": "#%%\n"
    }
   },
   "outputs": [
    {
     "name": "stdout",
     "output_type": "stream",
     "text": [
      "[0.0, 0.0, 1.0, 1.0] (7646, 4)\n",
      "[1.0, 1.0, 1.0, -1.0] (7337, 4)\n",
      "[-1.0, 1.0, -1.0, 0.0] (8879, 4)\n",
      "[-1.0, -1.0, 0.0, 1.0] (8224, 4)\n",
      "[0.0, 1.0, 1.0, 1.0] (7680, 4)\n",
      "[0.0, -1.0, -1.0, 0.0] (7317, 4)\n",
      "[0.0, 0.0, 1.0, -1.0] (7534, 4)\n",
      "[-1.0, 1.0, -1.0, -1.0] (8475, 4)\n",
      "[0.0, 0.0, -1.0, 0.0] (6957, 4)\n",
      "[-1.0, 1.0, 0.0, 1.0] (8591, 4)\n",
      "[0.0, 1.0, -1.0, 1.0] (8323, 4)\n",
      "[-1.0, 0.0, -1.0, 0.0] (9080, 4)\n",
      "[1.0, 0.0, -1.0, 0.0] (8551, 4)\n",
      "[1.0, 1.0, 1.0, 0.0] (7854, 4)\n",
      "[-1.0, 0.0, 1.0, 0.0] (8126, 4)\n",
      "[1.0, 1.0, 0.0, 1.0] (8359, 4)\n",
      "[1.0, 0.0, -1.0, -1.0] (8301, 4)\n",
      "[1.0, -1.0, 1.0, -1.0] (7567, 4)\n",
      "[-1.0, -1.0, 1.0, 0.0] (7884, 4)\n",
      "[1.0, 1.0, 0.0, -1.0] (8030, 4)\n",
      "[-1.0, 0.0, -1.0, -1.0] (8481, 4)\n",
      "[0.0, 0.0, -1.0, -1.0] (8201, 4)\n",
      "[1.0, 0.0, 0.0, 0.0] (8423, 4)\n",
      "[0.0, -1.0, 0.0, 1.0] (8114, 4)\n",
      "[0.0, 0.0, 0.0, 0.0] (6558, 4)\n",
      "[1.0, 0.0, 0.0, 1.0] (8172, 4)\n",
      "[0.0, -1.0, 1.0, -1.0] (7542, 4)\n",
      "[-1.0, 1.0, 1.0, -1.0] (6972, 4)\n",
      "[1.0, 0.0, -1.0, 1.0] (8392, 4)\n",
      "[0.0, 1.0, 1.0, 0.0] (6672, 4)\n",
      "[1.0, -1.0, 0.0, 1.0] (8188, 4)\n",
      "[0.0, 0.0, -1.0, 1.0] (8473, 4)\n",
      "[0.0, 0.0, 0.0, -1.0] (8033, 4)\n",
      "[1.0, 0.0, 0.0, -1.0] (8380, 4)\n",
      "[-1.0, 1.0, 0.0, -1.0] (8352, 4)\n",
      "[1.0, -1.0, 1.0, 0.0] (7465, 4)\n",
      "[-1.0, -1.0, 0.0, -1.0] (8075, 4)\n",
      "[-1.0, 0.0, 1.0, -1.0] (7623, 4)\n",
      "[1.0, -1.0, 0.0, -1.0] (8214, 4)\n",
      "[0.0, 1.0, -1.0, -1.0] (8303, 4)\n",
      "[0.0, -1.0, 0.0, -1.0] (8114, 4)\n",
      "[0.0, 1.0, 0.0, -1.0] (8211, 4)\n",
      "[-1.0, -1.0, 0.0, 0.0] (8694, 4)\n",
      "[-1.0, -1.0, -1.0, 1.0] (8372, 4)\n",
      "[0.0, 1.0, -1.0, 0.0] (7249, 4)\n",
      "[1.0, 1.0, -1.0, -1.0] (8201, 4)\n",
      "[-1.0, 0.0, 0.0, 0.0] (9154, 4)\n",
      "[-1.0, 0.0, 1.0, 1.0] (7831, 4)\n",
      "[-1.0, -1.0, -1.0, 0.0] (8734, 4)\n",
      "[0.0, 1.0, 0.0, 0.0] (6861, 4)\n",
      "[-1.0, -1.0, 1.0, 1.0] (7729, 4)\n",
      "[1.0, 1.0, 1.0, 1.0] (7665, 4)\n",
      "[1.0, 1.0, 0.0, 0.0] (8412, 4)\n",
      "[-1.0, 0.0, -1.0, 1.0] (8705, 4)\n",
      "[-1.0, 0.0, 0.0, -1.0] (8447, 4)\n",
      "[0.0, -1.0, -1.0, -1.0] (8260, 4)\n",
      "[-1.0, -1.0, 1.0, -1.0] (7399, 4)\n",
      "[0.0, -1.0, 0.0, 0.0] (6924, 4)\n",
      "[0.0, 0.0, 1.0, 0.0] (5897, 4)\n",
      "[0.0, 1.0, 0.0, 1.0] (8369, 4)\n",
      "[0.0, -1.0, 1.0, 0.0] (6538, 4)\n",
      "[1.0, -1.0, -1.0, 0.0] (8315, 4)\n",
      "[0.0, -1.0, 1.0, 1.0] (7516, 4)\n",
      "[1.0, 0.0, 1.0, -1.0] (7469, 4)\n",
      "[0.0, 0.0, 0.0, 1.0] (8357, 4)\n",
      "[-1.0, 0.0, 0.0, 1.0] (8667, 4)\n",
      "[-1.0, -1.0, -1.0, -1.0] (8263, 4)\n",
      "[1.0, -1.0, -1.0, -1.0] (8275, 4)\n",
      "[1.0, 1.0, -1.0, 0.0] (8463, 4)\n",
      "[0.0, -1.0, -1.0, 1.0] (8166, 4)\n",
      "[1.0, 0.0, 1.0, 0.0] (7795, 4)\n",
      "[0.0, 1.0, 1.0, -1.0] (7466, 4)\n",
      "[-1.0, 1.0, 1.0, 0.0] (8115, 4)\n",
      "[1.0, -1.0, 1.0, 1.0] (7557, 4)\n",
      "[1.0, -1.0, 0.0, 0.0] (8321, 4)\n",
      "[1.0, -1.0, -1.0, 1.0] (8357, 4)\n",
      "[-1.0, 1.0, -1.0, 1.0] (8531, 4)\n",
      "[1.0, 0.0, 1.0, 1.0] (7609, 4)\n",
      "[-1.0, 1.0, 0.0, 0.0] (9032, 4)\n",
      "[-1.0, 1.0, 1.0, 1.0] (7869, 4)\n",
      "[1.0, 1.0, -1.0, 1.0] (8269, 4)\n",
      "(4,) (4,)\n",
      "[6.95982538e+05 1.35103853e+05 2.26167420e-01 4.19858541e-01] [1.85856715e+05 6.06622356e+04 7.60759236e-02 2.42168453e-02]\n"
     ]
    }
   ],
   "source": [
    "# load the training data and parse out the overall means and stds\n",
    "train_trajectories = []\n",
    "train_labels = []\n",
    "with open(training_f, 'rb') as trainfile:\n",
    "    training_dict = pkl.load(trainfile)\n",
    "\n",
    "train_test_set = []\n",
    "new_training_dict = {}\n",
    "n_left_out = 1\n",
    "for label, flattened_trajectories in training_dict.items():\n",
    "    label_arr = eval(label)\n",
    "    if label_arr[-1] != 0:\n",
    "        #training_dict.pop(label)\n",
    "        continue\n",
    "    short_label = str(label_arr[:-1])\n",
    "    original_length = len(flattened_trajectories)\n",
    "    pared_trajectories = deepcopy(flattened_trajectories)\n",
    "    for j in range(n_left_out):\n",
    "        leave_out_i = np.random.randint((len(pared_trajectories)-1)/100) # skip the last one, which could be < 100\n",
    "        left_out = flattened_trajectories[leave_out_i:leave_out_i+100]\n",
    "        pared_trajectories = np.delete(pared_trajectories,list(range(leave_out_i,leave_out_i+100)),0)\n",
    "        train_test_set.append((left_out[:,:-1],short_label))\n",
    "    new_training_dict[short_label] = pared_trajectories\n",
    "    assert len(new_training_dict[short_label]) + n_left_out*100 == original_length\n",
    "training_dict = new_training_dict\n",
    "for label,steps in training_dict.items():\n",
    "    steps = steps[:,:-1]\n",
    "    training_dict[label] = steps\n",
    "    print(label, steps.shape)\n",
    "    extra = len(steps) % 100 # since we only use this to test with, lop off the extra\n",
    "    # if id didn't divide evenly, lop off extra\n",
    "    # and reshape to be in steps of 100\n",
    "    if extra > 0:\n",
    "        chunks = steps[:-extra,:].reshape(len(steps)//100,100,4)\n",
    "    else:\n",
    "        chunks = steps.reshape(len(steps)//100,100,4)\n",
    "    for i in range(chunks.shape[0]):\n",
    "        train_trajectories.append(chunks[i,:,:])\n",
    "        train_labels.append(label)\n",
    "        \n",
    "\n",
    "all_training_data = np.concatenate([v for v in training_dict.values()])\n",
    "    \n",
    "train_m = np.mean(all_training_data,0)\n",
    "train_std = np.std(all_training_data,0)\n",
    "print(train_m.shape,train_std.shape)\n",
    "print(train_m,train_std)"
   ]
  },
  {
   "cell_type": "code",
   "execution_count": 332,
   "metadata": {},
   "outputs": [
    {
     "data": {
      "text/plain": [
       "PCA(copy=True, iterated_power='auto', n_components=3, random_state=None,\n",
       "    svd_solver='auto', tol=0.0, whiten=False)"
      ]
     },
     "execution_count": 332,
     "metadata": {},
     "output_type": "execute_result"
    }
   ],
   "source": [
    "pca = PCA(n_components=3)\n",
    "pca.fit(metric_standardize(all_training_data,standard_m,standard_std))"
   ]
  },
  {
   "cell_type": "code",
   "execution_count": 333,
   "metadata": {},
   "outputs": [
    {
     "data": {
      "text/plain": [
       "array([0.35348834, 0.280618  , 0.27239048])"
      ]
     },
     "execution_count": 333,
     "metadata": {},
     "output_type": "execute_result"
    }
   ],
   "source": [
    "pca.explained_variance_ratio_"
   ]
  },
  {
   "cell_type": "code",
   "execution_count": 313,
   "metadata": {},
   "outputs": [
    {
     "data": {
      "text/plain": [
       "array([[ 1.0205735 , -0.22782208,  0.86084666, -0.27424303],\n",
       "       [ 1.02875367, -0.22782208,  1.21091874, -0.4665861 ],\n",
       "       [ 1.15230986, -0.34364073,  1.15360239, -0.30964544],\n",
       "       [ 1.15252488, -0.34364073,  1.15360239, -0.2964096 ],\n",
       "       [ 1.03843034, -0.22782208,  1.21091874, -0.16216404],\n",
       "       [ 1.02816922, -0.22782208,  1.21091874, -0.13269043],\n",
       "       [ 1.0255701 , -0.22782208,  1.21091874, -0.55496466],\n",
       "       [ 1.14401595, -0.34364073,  1.11221529, -0.40434819],\n",
       "       [ 1.14427498, -0.34364073,  1.11221529, -0.39507009],\n",
       "       [ 1.142781  , -0.34364073,  1.21091874, -0.39500494]])"
      ]
     },
     "execution_count": 313,
     "metadata": {},
     "output_type": "execute_result"
    }
   ],
   "source": [
    "metric_standardize(train_test_set[0][0], standard_m, standard_std)[:10]"
   ]
  },
  {
   "cell_type": "code",
   "execution_count": 334,
   "metadata": {},
   "outputs": [
    {
     "data": {
      "text/plain": [
       "array([[ 1.02996415, -0.58508566, -0.24292824],\n",
       "       [ 1.41424085, -0.55785767, -0.25001765],\n",
       "       [ 1.3387463 , -0.70766806, -0.16805643],\n",
       "       [ 1.33418515, -0.70692269, -0.15781398],\n",
       "       [ 1.31057123, -0.54249722, -0.01625509],\n",
       "       [ 1.29760817, -0.53678978,  0.01066669],\n",
       "       [ 1.44423999, -0.562176  , -0.31773926],\n",
       "       [ 1.33237089, -0.71545858, -0.25602458],\n",
       "       [ 1.32920189, -0.7149769 , -0.24888627],\n",
       "       [ 1.41761493, -0.70247749, -0.20707452]])"
      ]
     },
     "execution_count": 334,
     "metadata": {},
     "output_type": "execute_result"
    }
   ],
   "source": [
    "pca.transform(metric_standardize(train_test_set[0][0], standard_m, standard_std))[:10]"
   ]
  },
  {
   "cell_type": "code",
   "execution_count": 293,
   "metadata": {},
   "outputs": [
    {
     "ename": "ValueError",
     "evalue": "Expected 2D array, got scalar array instead:\narray=783459.2726262164.\nReshape your data either using array.reshape(-1, 1) if your data has a single feature or array.reshape(1, -1) if it contains a single sample.",
     "output_type": "error",
     "traceback": [
      "\u001b[0;31m---------------------------------------------------------------------------\u001b[0m",
      "\u001b[0;31mValueError\u001b[0m                                Traceback (most recent call last)",
      "\u001b[0;32m<ipython-input-293-ccf269345961>\u001b[0m in \u001b[0;36m<module>\u001b[0;34m\u001b[0m\n\u001b[1;32m      5\u001b[0m         \u001b[0mtransformed_trajectory\u001b[0m \u001b[0;34m=\u001b[0m \u001b[0;34m[\u001b[0m\u001b[0;34m]\u001b[0m\u001b[0;34m\u001b[0m\u001b[0;34m\u001b[0m\u001b[0m\n\u001b[1;32m      6\u001b[0m         \u001b[0;32mfor\u001b[0m \u001b[0mstep\u001b[0m \u001b[0;32min\u001b[0m \u001b[0mtrajectory\u001b[0m\u001b[0;34m:\u001b[0m\u001b[0;34m\u001b[0m\u001b[0;34m\u001b[0m\u001b[0m\n\u001b[0;32m----> 7\u001b[0;31m             \u001b[0mtransformed_step\u001b[0m \u001b[0;34m=\u001b[0m \u001b[0mpca\u001b[0m\u001b[0;34m.\u001b[0m\u001b[0mtransform\u001b[0m\u001b[0;34m(\u001b[0m\u001b[0mstep\u001b[0m\u001b[0;34m)\u001b[0m\u001b[0;34m\u001b[0m\u001b[0;34m\u001b[0m\u001b[0m\n\u001b[0m\u001b[1;32m      8\u001b[0m             \u001b[0mtransformed_trajectory\u001b[0m\u001b[0;34m.\u001b[0m\u001b[0mappend\u001b[0m\u001b[0;34m(\u001b[0m\u001b[0mtransforemed_step\u001b[0m\u001b[0;34m)\u001b[0m\u001b[0;34m\u001b[0m\u001b[0;34m\u001b[0m\u001b[0m\n\u001b[1;32m      9\u001b[0m         \u001b[0mtransformed_trajectories\u001b[0m\u001b[0;34m.\u001b[0m\u001b[0mappend\u001b[0m\u001b[0;34m(\u001b[0m\u001b[0mtransformed_trajectory\u001b[0m\u001b[0;34m)\u001b[0m\u001b[0;34m\u001b[0m\u001b[0;34m\u001b[0m\u001b[0m\n",
      "\u001b[0;32m~/venv/distopia_master/lib/python3.6/site-packages/sklearn/decomposition/base.py\u001b[0m in \u001b[0;36mtransform\u001b[0;34m(self, X)\u001b[0m\n\u001b[1;32m    125\u001b[0m         \u001b[0mcheck_is_fitted\u001b[0m\u001b[0;34m(\u001b[0m\u001b[0mself\u001b[0m\u001b[0;34m,\u001b[0m \u001b[0;34m[\u001b[0m\u001b[0;34m'mean_'\u001b[0m\u001b[0;34m,\u001b[0m \u001b[0;34m'components_'\u001b[0m\u001b[0;34m]\u001b[0m\u001b[0;34m,\u001b[0m \u001b[0mall_or_any\u001b[0m\u001b[0;34m=\u001b[0m\u001b[0mall\u001b[0m\u001b[0;34m)\u001b[0m\u001b[0;34m\u001b[0m\u001b[0;34m\u001b[0m\u001b[0m\n\u001b[1;32m    126\u001b[0m \u001b[0;34m\u001b[0m\u001b[0m\n\u001b[0;32m--> 127\u001b[0;31m         \u001b[0mX\u001b[0m \u001b[0;34m=\u001b[0m \u001b[0mcheck_array\u001b[0m\u001b[0;34m(\u001b[0m\u001b[0mX\u001b[0m\u001b[0;34m)\u001b[0m\u001b[0;34m\u001b[0m\u001b[0;34m\u001b[0m\u001b[0m\n\u001b[0m\u001b[1;32m    128\u001b[0m         \u001b[0;32mif\u001b[0m \u001b[0mself\u001b[0m\u001b[0;34m.\u001b[0m\u001b[0mmean_\u001b[0m \u001b[0;32mis\u001b[0m \u001b[0;32mnot\u001b[0m \u001b[0;32mNone\u001b[0m\u001b[0;34m:\u001b[0m\u001b[0;34m\u001b[0m\u001b[0;34m\u001b[0m\u001b[0m\n\u001b[1;32m    129\u001b[0m             \u001b[0mX\u001b[0m \u001b[0;34m=\u001b[0m \u001b[0mX\u001b[0m \u001b[0;34m-\u001b[0m \u001b[0mself\u001b[0m\u001b[0;34m.\u001b[0m\u001b[0mmean_\u001b[0m\u001b[0;34m\u001b[0m\u001b[0;34m\u001b[0m\u001b[0m\n",
      "\u001b[0;32m~/venv/distopia_master/lib/python3.6/site-packages/sklearn/utils/validation.py\u001b[0m in \u001b[0;36mcheck_array\u001b[0;34m(array, accept_sparse, accept_large_sparse, dtype, order, copy, force_all_finite, ensure_2d, allow_nd, ensure_min_samples, ensure_min_features, warn_on_dtype, estimator)\u001b[0m\n\u001b[1;32m    512\u001b[0m                     \u001b[0;34m\"Reshape your data either using array.reshape(-1, 1) if \"\u001b[0m\u001b[0;34m\u001b[0m\u001b[0;34m\u001b[0m\u001b[0m\n\u001b[1;32m    513\u001b[0m                     \u001b[0;34m\"your data has a single feature or array.reshape(1, -1) \"\u001b[0m\u001b[0;34m\u001b[0m\u001b[0;34m\u001b[0m\u001b[0m\n\u001b[0;32m--> 514\u001b[0;31m                     \"if it contains a single sample.\".format(array))\n\u001b[0m\u001b[1;32m    515\u001b[0m             \u001b[0;31m# If input is 1D raise error\u001b[0m\u001b[0;34m\u001b[0m\u001b[0;34m\u001b[0m\u001b[0;34m\u001b[0m\u001b[0m\n\u001b[1;32m    516\u001b[0m             \u001b[0;32mif\u001b[0m \u001b[0marray\u001b[0m\u001b[0;34m.\u001b[0m\u001b[0mndim\u001b[0m \u001b[0;34m==\u001b[0m \u001b[0;36m1\u001b[0m\u001b[0;34m:\u001b[0m\u001b[0;34m\u001b[0m\u001b[0;34m\u001b[0m\u001b[0m\n",
      "\u001b[0;31mValueError\u001b[0m: Expected 2D array, got scalar array instead:\narray=783459.2726262164.\nReshape your data either using array.reshape(-1, 1) if your data has a single feature or array.reshape(1, -1) if it contains a single sample."
     ]
    }
   ],
   "source": [
    "# transformed_training_dict = {}\n",
    "# for task,trajectories in training_dict.items():\n",
    "#     transformed_trajectories = []\n",
    "#     for trajectory in trajectories:\n",
    "#         transformed_trajectory = []\n",
    "#         for step in trajectory:\n",
    "#             transformed_step = pca.transform(step)\n",
    "#             transformed_trajectory.append(transforemed_step)\n",
    "#         transformed_trajectories.append(transformed_trajectory)\n",
    "#     transformed_training_dict[task] = np.array(transformed_trajectories)"
   ]
  },
  {
   "cell_type": "code",
   "execution_count": 4,
   "metadata": {
    "pycharm": {
     "is_executing": false
    }
   },
   "outputs": [
    {
     "data": {
      "text/plain": [
       "(0, 4)"
      ]
     },
     "execution_count": 4,
     "metadata": {},
     "output_type": "execute_result"
    }
   ],
   "source": [
    "steps[:-0,:].shape"
   ]
  },
  {
   "cell_type": "code",
   "execution_count": 5,
   "metadata": {
    "pycharm": {
     "is_executing": false,
     "name": "#%%\n"
    }
   },
   "outputs": [
    {
     "name": "stdout",
     "output_type": "stream",
     "text": [
      "(4,) (4,)\n",
      "[6.97818515e+05 1.26980738e+05 2.21070745e-01 4.19481711e-01] [2.45247594e+05 5.27317480e+04 5.44752682e-02 2.00649051e-02]\n"
     ]
    }
   ],
   "source": [
    "all_test_data = []\n",
    "all_test_data_append = all_test_data.append\n",
    "with open(test_f, 'r') as testfile:\n",
    "    for row in testfile:\n",
    "        result = json.loads(row)\n",
    "        metrics = result['metrics']\n",
    "        # metrics is a list of observations over each 100 steps\n",
    "        for m in metrics:\n",
    "            all_test_data_append(m[:-1])\n",
    "all_test_data = np.array(all_test_data)\n",
    "test_m = np.mean(all_test_data,0)\n",
    "test_std = np.std(all_test_data,0)\n",
    "print(test_m.shape,test_std.shape)\n",
    "print(test_m,test_std)"
   ]
  },
  {
   "cell_type": "code",
   "execution_count": 15,
   "metadata": {
    "pycharm": {
     "is_executing": true,
     "name": "#%%\n"
    }
   },
   "outputs": [],
   "source": [
    "test_trajectories = []\n",
    "test_labels = []\n",
    "test_dict = {}\n",
    "with open(test_f, 'r') as testfile:\n",
    "    counter = 0\n",
    "    for row in testfile:\n",
    "        result = json.loads(row)\n",
    "        metrics = result['metrics']\n",
    "        label_arr = result['task']\n",
    "        if label_arr[-1] != 0:\n",
    "            continue\n",
    "        short_label_arr = result['task'][:-1]\n",
    "        raw_label = str(list(map(float,short_label_arr)))\n",
    "        label = str(np.array(short_label_arr, dtype=float))\n",
    "        metrics = [m[:-1] for m in metrics]\n",
    "        test_trajectories.append(metrics)\n",
    "        test_labels.append(label)\n",
    "        if raw_label in test_dict:\n",
    "            test_dict[raw_label] += metrics[:]\n",
    "        else:\n",
    "            test_dict[raw_label] = metrics[:]\n",
    "\n",
    "test_test_set = []\n",
    "for label, flattened_trajectories in test_dict.items():\n",
    "    original_length = len(flattened_trajectories)\n",
    "    leave_out_i = np.random.randint((len(flattened_trajectories)-1)/100) # skip the last one, which could be < 100\n",
    "    left_out = flattened_trajectories[leave_out_i:leave_out_i+100]\n",
    "    test_dict[label] = np.delete(flattened_trajectories,list(range(leave_out_i,leave_out_i+100)),0)\n",
    "    test_test_set.append((left_out,label))\n",
    "    assert len(test_dict[label]) + 100 == original_length\n"
   ]
  },
  {
   "cell_type": "code",
   "execution_count": 16,
   "metadata": {
    "pycharm": {
     "is_executing": false
    }
   },
   "outputs": [
    {
     "name": "stdout",
     "output_type": "stream",
     "text": [
      "(4885, 100, 4) 4885\n"
     ]
    }
   ],
   "source": [
    "#NOTE: the train trajectories take out the test sample before creating trajectories, this does not\n",
    "test_trajectories = np.array(test_trajectories)\n",
    "# for i in range(len(test_labels)):\n",
    "#     test_labels[i] = str(np.array(test_labels[i], dtype=float))\n",
    "print(test_trajectories.shape, len(test_labels))"
   ]
  },
  {
   "cell_type": "code",
   "execution_count": 9,
   "metadata": {},
   "outputs": [
    {
     "data": {
      "text/plain": [
       "243"
      ]
     },
     "execution_count": 9,
     "metadata": {},
     "output_type": "execute_result"
    }
   ],
   "source": [
    "len(train_test_set)"
   ]
  },
  {
   "cell_type": "code",
   "execution_count": 12,
   "metadata": {},
   "outputs": [
    {
     "name": "stdout",
     "output_type": "stream",
     "text": [
      "(14258, 5)\n",
      "(14750, 5)\n",
      "(13146, 5)\n",
      "(13469, 5)\n",
      "(13537, 5)\n",
      "(14022, 5)\n",
      "(14376, 5)\n",
      "(15279, 5)\n",
      "(12967, 5)\n",
      "(13554, 5)\n",
      "(13160, 5)\n",
      "(14128, 5)\n",
      "(12565, 5)\n",
      "(14338, 5)\n",
      "(13148, 5)\n",
      "(14272, 5)\n",
      "(13195, 5)\n",
      "(14510, 5)\n",
      "(14224, 5)\n",
      "(13504, 5)\n",
      "(13753, 5)\n",
      "(13978, 5)\n",
      "(12880, 5)\n",
      "(12765, 5)\n",
      "(13800, 5)\n",
      "(12875, 5)\n",
      "(13227, 5)\n",
      "(13417, 5)\n",
      "(12800, 5)\n",
      "(14361, 5)\n",
      "(14522, 5)\n",
      "(15369, 5)\n",
      "(13477, 5)\n",
      "(13234, 5)\n",
      "(13415, 5)\n",
      "(15152, 5)\n",
      "(14162, 5)\n",
      "(15027, 5)\n",
      "(14362, 5)\n",
      "(13733, 5)\n",
      "(13555, 5)\n",
      "(15075, 5)\n",
      "(12705, 5)\n",
      "(13818, 5)\n",
      "(12957, 5)\n",
      "(14691, 5)\n",
      "(13504, 5)\n",
      "(13823, 5)\n",
      "(14078, 5)\n",
      "(15024, 5)\n",
      "(14334, 5)\n",
      "(15280, 5)\n",
      "(14351, 5)\n",
      "(14054, 5)\n",
      "(13746, 5)\n",
      "(14700, 5)\n",
      "(14782, 5)\n",
      "(14327, 5)\n",
      "(13686, 5)\n",
      "(14037, 5)\n",
      "(15038, 5)\n",
      "(14475, 5)\n",
      "(14526, 5)\n",
      "(14659, 5)\n",
      "(14301, 5)\n",
      "(15029, 5)\n",
      "(13721, 5)\n",
      "(13454, 5)\n",
      "(13267, 5)\n",
      "(13746, 5)\n",
      "(13884, 5)\n",
      "(13932, 5)\n",
      "(13686, 5)\n",
      "(14016, 5)\n",
      "(14204, 5)\n",
      "(14030, 5)\n",
      "(13328, 5)\n",
      "(14967, 5)\n",
      "(14602, 5)\n",
      "(14358, 5)\n",
      "(14481, 5)\n",
      "(14201, 5)\n",
      "(15095, 5)\n",
      "(13216, 5)\n",
      "(14323, 5)\n",
      "(15068, 5)\n",
      "(13186, 5)\n",
      "(12891, 5)\n",
      "(14314, 5)\n",
      "(14624, 5)\n",
      "(12896, 5)\n",
      "(12458, 5)\n",
      "(13677, 5)\n",
      "(13169, 5)\n",
      "(14375, 5)\n",
      "(13383, 5)\n",
      "(14172, 5)\n",
      "(14522, 5)\n",
      "(14125, 5)\n",
      "(13701, 5)\n",
      "(13646, 5)\n",
      "(13442, 5)\n",
      "(12618, 5)\n",
      "(14147, 5)\n",
      "(13072, 5)\n",
      "(14292, 5)\n",
      "(14687, 5)\n",
      "(11972, 5)\n",
      "(13822, 5)\n",
      "(13688, 5)\n",
      "(14208, 5)\n",
      "(14559, 5)\n",
      "(13464, 5)\n",
      "(14673, 5)\n",
      "(14777, 5)\n",
      "(13933, 5)\n",
      "(14280, 5)\n",
      "(14552, 5)\n",
      "(13365, 5)\n",
      "(14288, 5)\n",
      "(14657, 5)\n",
      "(13446, 5)\n",
      "(13967, 5)\n",
      "(13657, 5)\n",
      "(14321, 5)\n",
      "(13455, 5)\n",
      "(14758, 5)\n",
      "(14324, 5)\n",
      "(14075, 5)\n",
      "(14023, 5)\n",
      "(13414, 5)\n",
      "(13803, 5)\n",
      "(14414, 5)\n",
      "(13611, 5)\n",
      "(14694, 5)\n",
      "(14572, 5)\n",
      "(15097, 5)\n",
      "(12749, 5)\n",
      "(14201, 5)\n",
      "(14142, 5)\n",
      "(15454, 5)\n",
      "(13349, 5)\n",
      "(13936, 5)\n",
      "(13678, 5)\n",
      "(14177, 5)\n",
      "(15036, 5)\n",
      "(14231, 5)\n",
      "(14014, 5)\n",
      "(14834, 5)\n",
      "(14181, 5)\n",
      "(12261, 5)\n",
      "(13326, 5)\n",
      "(13705, 5)\n",
      "(13619, 5)\n",
      "(13942, 5)\n",
      "(14498, 5)\n",
      "(13929, 5)\n",
      "(13765, 5)\n",
      "(14512, 5)\n",
      "(14143, 5)\n",
      "(14805, 5)\n",
      "(13971, 5)\n",
      "(14268, 5)\n",
      "(14647, 5)\n",
      "(14460, 5)\n",
      "(13846, 5)\n",
      "(15040, 5)\n",
      "(13310, 5)\n",
      "(13808, 5)\n",
      "(14470, 5)\n",
      "(14351, 5)\n",
      "(13499, 5)\n",
      "(13806, 5)\n",
      "(14115, 5)\n",
      "(14430, 5)\n",
      "(12924, 5)\n",
      "(11297, 5)\n",
      "(13769, 5)\n",
      "(13927, 5)\n",
      "(14417, 5)\n",
      "(12538, 5)\n",
      "(14333, 5)\n",
      "(13833, 5)\n",
      "(13315, 5)\n",
      "(14487, 5)\n",
      "(13616, 5)\n",
      "(13571, 5)\n",
      "(14705, 5)\n",
      "(13765, 5)\n",
      "(14273, 5)\n",
      "(14538, 5)\n",
      "(12996, 5)\n",
      "(13469, 5)\n",
      "(14157, 5)\n",
      "(13589, 5)\n",
      "(14219, 5)\n",
      "(15167, 5)\n",
      "(13473, 5)\n",
      "(14484, 5)\n",
      "(14363, 5)\n",
      "(13475, 5)\n",
      "(14222, 5)\n",
      "(14363, 5)\n",
      "(14266, 5)\n",
      "(13695, 5)\n",
      "(12666, 5)\n",
      "(14396, 5)\n",
      "(14123, 5)\n",
      "(13555, 5)\n",
      "(13589, 5)\n",
      "(14516, 5)\n",
      "(14215, 5)\n",
      "(14163, 5)\n",
      "(13657, 5)\n",
      "(13721, 5)\n",
      "(13457, 5)\n",
      "(15300, 5)\n",
      "(13203, 5)\n",
      "(14558, 5)\n",
      "(14931, 5)\n",
      "(13609, 5)\n",
      "(14571, 5)\n",
      "(14366, 5)\n",
      "(14404, 5)\n",
      "(15332, 5)\n",
      "(15025, 5)\n",
      "(13969, 5)\n",
      "(14395, 5)\n",
      "(14739, 5)\n",
      "(14169, 5)\n",
      "(14516, 5)\n",
      "(13625, 5)\n",
      "(14314, 5)\n",
      "(14333, 5)\n",
      "(13728, 5)\n",
      "(14277, 5)\n",
      "(14454, 5)\n",
      "(13538, 5)\n",
      "(14549, 5)\n",
      "(14299, 5)\n",
      "(13900, 5)\n",
      "(13604, 5)\n",
      "(13521, 5)\n"
     ]
    }
   ],
   "source": [
    "combined_train_test_dict = {}\n",
    "for key in training_dict.keys():\n",
    "    combined_train_test_dict[key] = np.concatenate([training_dict[key],test_dict[key]])\n",
    "    assert combined_train_test_dict[key].shape[-1] == 5\n",
    "    print(combined_train_test_dict[key].shape)\n",
    "    "
   ]
  },
  {
   "cell_type": "code",
   "execution_count": 45,
   "metadata": {},
   "outputs": [],
   "source": [
    "with open('test_data.pkl','wb+') as outfile:\n",
    "    pkl.dump((test_trajectories,test_labels),outfile)"
   ]
  },
  {
   "cell_type": "code",
   "execution_count": 354,
   "metadata": {
    "pycharm": {
     "is_executing": false,
     "name": "#%%\n"
    }
   },
   "outputs": [],
   "source": [
    "def metric_standardize(data, m, std, transform=None):\n",
    "    data = np.array(data)\n",
    "    if transform is not None:\n",
    "        if len(data.shape) < 2:\n",
    "            return pca.transform([(data - m)/std])[0]\n",
    "        else:\n",
    "            return pca.transform((data - m)/std)\n",
    "    else:\n",
    "        return (data - m)/std\n",
    "#     if len(data.shape) > 1:\n",
    "#         # print(data[:,0].reshape(len(data),1).shape)\n",
    "#         # print(data[:,2:].shape)\n",
    "#         #trunc_data = np.concatenate((data[:,:3],data[:,4:]),1)\n",
    "#         #trunc_data = np.concatenate((data[:,:1],data[:,2:]),1)\n",
    "#         trunc_data = data[:,:-1]\n",
    "#         assert data.shape[1] == 5\n",
    "#     else:\n",
    "#         #trunc_data = np.concatenate((data[:1],data[2:]))\n",
    "#         trunc_data = data[:-1]\n",
    "#         assert data.shape[0] == 5\n",
    "# #     mean = np.concatenate((m[:1],m[2:]))\n",
    "# #     std_dev = np.concatenate((std[:1],std[2:]))\n",
    "#     mean = m[:-1]\n",
    "#     std_dev = std[:-1]\n",
    "#     return (trunc_data - mean)/std_dev\n",
    "    \n",
    "#     if len(data.shape) > 1:\n",
    "#         return (data[:,:-1] - m[:-1])/std[:-1]\n",
    "#     else:\n",
    "#         return (data[:-1] - m[:-1])/std[:-1]\n",
    "    #return data\n",
    "kde_dict = {}\n",
    "#for task in test_dict.keys():\n",
    "for task,task_data in training_dict.items():\n",
    "#for task in combined_train_test_dict.keys():\n",
    "    task_str = str(np.array(eval(task)))\n",
    "    task_data = training_dict[str(task)]\n",
    "    #task_data = test_dict[str(task)]\n",
    "    #task_data = combined_train_test_dict[str(task)]\n",
    "    task_data = metric_standardize(task_data, standard_m, standard_std, transform=None)\n",
    "    task_kde = KernelDensity(kernel = 'gaussian', bandwidth=0.1).fit(task_data)\n",
    "    kde_dict[task_str] = task_kde #task_obs_fun\n",
    "\n",
    "# generate tasks\n",
    "tasks = list(map(np.array,itertools.product([-1., 0., 1.], [-1., 0., 1.], [-1., 0., 1.], [-1., 0., 1.])))\n",
    "# tasks = []\n",
    "task_strings = {str(task): task for task in tasks}\n",
    "task_strings = list(map(str2arr, task_strings))\n",
    "task_strings = list(map(str, hierarchical_sort(task_strings)))\n",
    "task_dict = {tstr : str2arr(tstr) for tstr in task_strings}    \n",
    "\n",
    "task_neighborhood_size_dict = {}\n",
    "for tstr in task_strings:\n",
    "    task_arr = task_dict[tstr]\n",
    "    num_neighbors = 0\n",
    "    for metric in task_arr:\n",
    "        if metric == 0:\n",
    "            num_neighbors += 2\n",
    "        elif metric == -1 or metric == 1:\n",
    "            num_neighbors += 1\n",
    "        else:\n",
    "            raise ValueError(\"metric was not in {-1, 0, 1}\")\n",
    "    task_neighborhood_size_dict[tstr] = num_neighbors\n",
    "\n",
    "zero_prob = 1/243\n",
    "low_prob = 22/243\n",
    "high_prob = 220/243\n",
    "\n",
    "def t_func(task_from, task_to, action):\n",
    "    t0 = task_dict[task_from]\n",
    "    t1 = task_dict[task_to]\n",
    "    diff = np.linalg.norm(t1-t0,1) # get the 1-norm difference (sum of abs values of elements)\n",
    "    # if more than 1 away, prob is 1/243\n",
    "    if diff > 1:\n",
    "        return zero_prob/(243-task_neighborhood_size_dict[task_from]-1) #uniformly distribute over the non-neighbors\n",
    "    elif diff == 1:\n",
    "        return low_prob/(task_neighborhood_size_dict[task_from])\n",
    "    elif diff == 0:\n",
    "        return high_prob # only one of these\n",
    "    else:\n",
    "        raise(ValueError(\"There is something wrong with the norm, got a negative l1 norm for {} and {}\".format(t0,t1)))\n",
    "\n",
    "def o_func(observation,task):\n",
    "    return np.exp(kde_dict[str(task)].score(observation.reshape(1,len(observation))))"
   ]
  },
  {
   "cell_type": "code",
   "execution_count": 20,
   "metadata": {},
   "outputs": [
    {
     "name": "stdout",
     "output_type": "stream",
     "text": [
      "['[0. 0. 1. 1.]', '[ 1.  1.  1. -1.]', '[-1.  1. -1.  0.]', '[-1. -1.  0.  1.]', '[0. 1. 1. 1.]', '[ 0. -1. -1.  0.]', '[ 0.  0.  1. -1.]', '[-1.  1. -1. -1.]', '[ 0.  0. -1.  0.]', '[-1.  1.  0.  1.]', '[ 0.  1. -1.  1.]', '[-1.  0. -1.  0.]', '[ 1.  0. -1.  0.]', '[1. 1. 1. 0.]', '[-1.  0.  1.  0.]', '[1. 1. 0. 1.]', '[ 1.  0. -1. -1.]', '[ 1. -1.  1. -1.]', '[-1. -1.  1.  0.]', '[ 1.  1.  0. -1.]', '[-1.  0. -1. -1.]', '[ 0.  0. -1. -1.]', '[1. 0. 0. 0.]', '[ 0. -1.  0.  1.]', '[0. 0. 0. 0.]', '[1. 0. 0. 1.]', '[ 0. -1.  1. -1.]', '[-1.  1.  1. -1.]', '[ 1.  0. -1.  1.]', '[0. 1. 1. 0.]', '[ 1. -1.  0.  1.]', '[ 0.  0. -1.  1.]', '[ 0.  0.  0. -1.]', '[ 1.  0.  0. -1.]', '[-1.  1.  0. -1.]', '[ 1. -1.  1.  0.]', '[-1. -1.  0. -1.]', '[-1.  0.  1. -1.]', '[ 1. -1.  0. -1.]', '[ 0.  1. -1. -1.]', '[ 0. -1.  0. -1.]', '[ 0.  1.  0. -1.]', '[-1. -1.  0.  0.]', '[-1. -1. -1.  1.]', '[ 0.  1. -1.  0.]', '[ 1.  1. -1. -1.]', '[-1.  0.  0.  0.]', '[-1.  0.  1.  1.]', '[-1. -1. -1.  0.]', '[0. 1. 0. 0.]', '[-1. -1.  1.  1.]', '[1. 1. 1. 1.]', '[1. 1. 0. 0.]', '[-1.  0. -1.  1.]', '[-1.  0.  0. -1.]', '[ 0. -1. -1. -1.]', '[-1. -1.  1. -1.]', '[ 0. -1.  0.  0.]', '[0. 0. 1. 0.]', '[0. 1. 0. 1.]', '[ 0. -1.  1.  0.]', '[ 1. -1. -1.  0.]', '[ 0. -1.  1.  1.]', '[ 1.  0.  1. -1.]', '[0. 0. 0. 1.]', '[-1.  0.  0.  1.]', '[-1. -1. -1. -1.]', '[ 1. -1. -1. -1.]', '[ 1.  1. -1.  0.]', '[ 0. -1. -1.  1.]', '[1. 0. 1. 0.]', '[ 0.  1.  1. -1.]', '[-1.  1.  1.  0.]', '[ 1. -1.  1.  1.]', '[ 1. -1.  0.  0.]', '[ 1. -1. -1.  1.]', '[-1.  1. -1.  1.]', '[1. 0. 1. 1.]', '[-1.  1.  0.  0.]', '[-1.  1.  1.  1.]', '[ 1.  1. -1.  1.]']\n"
     ]
    }
   ],
   "source": [
    "str(list(map(float,result['task'])))\n",
    "print([k for k in kde_dict.keys()])"
   ]
  },
  {
   "cell_type": "code",
   "execution_count": 83,
   "metadata": {},
   "outputs": [
    {
     "data": {
      "text/plain": [
       "array([1., 1., 1., 1., 1.])"
      ]
     },
     "execution_count": 83,
     "metadata": {},
     "output_type": "execute_result"
    }
   ],
   "source": [
    "str2arr(task_strings[0])"
   ]
  },
  {
   "cell_type": "code",
   "execution_count": 84,
   "metadata": {
    "pycharm": {
     "is_executing": false,
     "name": "#%%\n"
    }
   },
   "outputs": [],
   "source": []
  },
  {
   "cell_type": "code",
   "execution_count": null,
   "metadata": {
    "pycharm": {
     "is_executing": false,
     "name": "#%%\n"
    }
   },
   "outputs": [],
   "source": [
    "b = BayesFilter(task_strings,t_func,o_func)"
   ]
  },
  {
   "cell_type": "code",
   "execution_count": 324,
   "metadata": {
    "pycharm": {
     "is_executing": false,
     "name": "#%%\n"
    }
   },
   "outputs": [],
   "source": [
    "# Results queue\n",
    "RESULTS_QUEUE = Queue()\n",
    "# Status queue\n",
    "STATUS_QUEUE = Queue() \n",
    "from copy import deepcopy\n",
    "def filter_trajectory(trajectory_tuples):\n",
    "    # tuples are (trajectory, label)\n",
    "    trajectory, label = trajectory_tuples\n",
    "    print(len(trajectory))\n",
    "    targets = []\n",
    "    targets_append = targets.append\n",
    "    predictions = []\n",
    "    predictions_append = predictions.append\n",
    "    bf = BayesFilter(task_strings,t_func,o_func)\n",
    "    for step in trajectory:\n",
    "        #belief_star = bf.prediction_step(action=None)\n",
    "        standardized_step = metric_standardize(step, standard_m, standard_std,transform=pca)\n",
    "        belief = deepcopy(bf.observation_step(standardized_step))\n",
    "        prediction = max(belief, key=lambda x :belief[x])\n",
    "        # get the second max instead\n",
    "#         belief.pop(prediction)\n",
    "#         prediction = max(belief, key=lambda x :belief[x])\n",
    "#         belief.pop(prediction)\n",
    "#         prediction = max(belief, key=lambda x :belief[x])\n",
    "        ####\n",
    "        #print(\"Target: {}, Prediction: {}\".format(label,prediction))\n",
    "        targets_append(label)\n",
    "        predictions_append(prediction)\n",
    "        STATUS_QUEUE.put(1)\n",
    "    #RESULTS_QUEUE.put((targets, predictions))\n",
    "    return targets, predictions\n",
    "\n",
    "def progress_monitor(n_steps):\n",
    "    for i in tqdm_notebook(range(n_steps)):\n",
    "        STATUS_QUEUE.get()"
   ]
  },
  {
   "cell_type": "code",
   "execution_count": 22,
   "metadata": {
    "pycharm": {
     "is_executing": false,
     "name": "#%%\n"
    }
   },
   "outputs": [
    {
     "name": "stdout",
     "output_type": "stream",
     "text": [
      "81 4885\n"
     ]
    }
   ],
   "source": [
    "task_freq = {task_str : 0 for task_str in task_strings}\n",
    "num_satisfied = 0\n",
    "num_each = 1\n",
    "abbreviated_trajectories = []\n",
    "abbreviated_labels = []\n",
    "for i, label in enumerate(test_labels):\n",
    "    if num_satisfied >= len(task_strings):\n",
    "        break\n",
    "    elif task_freq[label] >= num_each:\n",
    "        if task_freq[label] == num_each:\n",
    "            # only check equal to prevent retriggering (we increment each step)\n",
    "            num_satisfied += 1\n",
    "        # otherwise just ignore\n",
    "    else:\n",
    "        abbreviated_trajectories.append(test_trajectories[i])\n",
    "        abbreviated_labels.append(label)\n",
    "    task_freq[label] += 1\n",
    "print(len(abbreviated_trajectories), len(test_trajectories))"
   ]
  },
  {
   "cell_type": "code",
   "execution_count": 239,
   "metadata": {
    "scrolled": true
   },
   "outputs": [
    {
     "data": {
      "text/plain": [
       "6500"
      ]
     },
     "execution_count": 239,
     "metadata": {},
     "output_type": "execute_result"
    }
   ],
   "source": [
    "len(test_trajectories[100])"
   ]
  },
  {
   "cell_type": "code",
   "execution_count": 23,
   "metadata": {},
   "outputs": [],
   "source": [
    "abbreviations = list(zip(abbreviated_trajectories,abbreviated_labels))\n"
   ]
  },
  {
   "cell_type": "code",
   "execution_count": null,
   "metadata": {},
   "outputs": [],
   "source": []
  },
  {
   "cell_type": "code",
   "execution_count": 167,
   "metadata": {},
   "outputs": [
    {
     "name": "stdout",
     "output_type": "stream",
     "text": [
      "[0.0, 0.0, 1.0, 1.0]\n",
      "[1.0, 1.0, 1.0, -1.0]\n",
      "[-1.0, 1.0, -1.0, 0.0]\n",
      "[-1.0, -1.0, 0.0, 1.0]\n",
      "[0.0, 1.0, 1.0, 1.0]\n",
      "[0.0, -1.0, -1.0, 0.0]\n",
      "[0.0, 0.0, 1.0, -1.0]\n",
      "[-1.0, 1.0, -1.0, -1.0]\n",
      "[0.0, 0.0, -1.0, 0.0]\n",
      "[-1.0, 1.0, 0.0, 1.0]\n",
      "[0.0, 1.0, -1.0, 1.0]\n",
      "[-1.0, 0.0, -1.0, 0.0]\n",
      "[1.0, 0.0, -1.0, 0.0]\n",
      "[1.0, 1.0, 1.0, 0.0]\n",
      "[-1.0, 0.0, 1.0, 0.0]\n",
      "[1.0, 1.0, 0.0, 1.0]\n",
      "[1.0, 0.0, -1.0, -1.0]\n",
      "[1.0, -1.0, 1.0, -1.0]\n",
      "[-1.0, -1.0, 1.0, 0.0]\n",
      "[1.0, 1.0, 0.0, -1.0]\n",
      "[-1.0, 0.0, -1.0, -1.0]\n",
      "[0.0, 0.0, -1.0, -1.0]\n",
      "[1.0, 0.0, 0.0, 0.0]\n",
      "[0.0, -1.0, 0.0, 1.0]\n",
      "[0.0, 0.0, 0.0, 0.0]\n",
      "[1.0, 0.0, 0.0, 1.0]\n",
      "[0.0, -1.0, 1.0, -1.0]\n",
      "[-1.0, 1.0, 1.0, -1.0]\n",
      "[1.0, 0.0, -1.0, 1.0]\n",
      "[0.0, 1.0, 1.0, 0.0]\n",
      "[1.0, -1.0, 0.0, 1.0]\n",
      "[0.0, 0.0, -1.0, 1.0]\n",
      "[0.0, 0.0, 0.0, -1.0]\n",
      "[1.0, 0.0, 0.0, -1.0]\n",
      "[-1.0, 1.0, 0.0, -1.0]\n",
      "[1.0, -1.0, 1.0, 0.0]\n",
      "[-1.0, -1.0, 0.0, -1.0]\n",
      "[-1.0, 0.0, 1.0, -1.0]\n",
      "[1.0, -1.0, 0.0, -1.0]\n",
      "[0.0, 1.0, -1.0, -1.0]\n",
      "[0.0, -1.0, 0.0, -1.0]\n",
      "[0.0, 1.0, 0.0, -1.0]\n",
      "[-1.0, -1.0, 0.0, 0.0]\n",
      "[-1.0, -1.0, -1.0, 1.0]\n",
      "[0.0, 1.0, -1.0, 0.0]\n",
      "[1.0, 1.0, -1.0, -1.0]\n",
      "[-1.0, 0.0, 0.0, 0.0]\n",
      "[-1.0, 0.0, 1.0, 1.0]\n",
      "[-1.0, -1.0, -1.0, 0.0]\n",
      "[0.0, 1.0, 0.0, 0.0]\n",
      "[-1.0, -1.0, 1.0, 1.0]\n",
      "[1.0, 1.0, 1.0, 1.0]\n",
      "[1.0, 1.0, 0.0, 0.0]\n",
      "[-1.0, 0.0, -1.0, 1.0]\n",
      "[-1.0, 0.0, 0.0, -1.0]\n",
      "[0.0, -1.0, -1.0, -1.0]\n",
      "[-1.0, -1.0, 1.0, -1.0]\n",
      "[0.0, -1.0, 0.0, 0.0]\n",
      "[0.0, 0.0, 1.0, 0.0]\n",
      "[0.0, 1.0, 0.0, 1.0]\n",
      "[0.0, -1.0, 1.0, 0.0]\n",
      "[1.0, -1.0, -1.0, 0.0]\n",
      "[0.0, -1.0, 1.0, 1.0]\n",
      "[1.0, 0.0, 1.0, -1.0]\n",
      "[0.0, 0.0, 0.0, 1.0]\n",
      "[-1.0, 0.0, 0.0, 1.0]\n",
      "[-1.0, -1.0, -1.0, -1.0]\n",
      "[1.0, -1.0, -1.0, -1.0]\n",
      "[1.0, 1.0, -1.0, 0.0]\n",
      "[0.0, -1.0, -1.0, 1.0]\n",
      "[1.0, 0.0, 1.0, 0.0]\n",
      "[0.0, 1.0, 1.0, -1.0]\n",
      "[-1.0, 1.0, 1.0, 0.0]\n",
      "[1.0, -1.0, 1.0, 1.0]\n",
      "[1.0, -1.0, 0.0, 0.0]\n",
      "[1.0, -1.0, -1.0, 1.0]\n",
      "[-1.0, 1.0, -1.0, 1.0]\n",
      "[1.0, 0.0, 1.0, 1.0]\n",
      "[-1.0, 1.0, 0.0, 0.0]\n",
      "[-1.0, 1.0, 1.0, 1.0]\n",
      "[1.0, 1.0, -1.0, 1.0]\n"
     ]
    }
   ],
   "source": [
    "input_arr = train_test_set\n",
    "abbreviations_dict = {}\n",
    "for trajectory,label in input_arr:\n",
    "    print(label)\n",
    "    abbreviations_dict[label] = []\n",
    "    for step in trajectory:\n",
    "        abbreviations_dict[label].append(step)\n",
    "    abbreviations_dict[label] = np.array(abbreviations_dict[label])"
   ]
  },
  {
   "cell_type": "code",
   "execution_count": 54,
   "metadata": {},
   "outputs": [],
   "source": [
    "abbreviations = []\n",
    "for key, trials in training_dict.items():\n",
    "    choice = np.random.randint(len(trials)) // 100 * 100 # hacky way of getting to a multiple of a hundred\n",
    "    if len(trials) - choice < 100:\n",
    "        choice -= 100\n",
    "    abbreviations.append((trials[choice:choice+100],key))"
   ]
  },
  {
   "cell_type": "code",
   "execution_count": 18,
   "metadata": {},
   "outputs": [
    {
     "data": {
      "text/plain": [
       "100"
      ]
     },
     "execution_count": 18,
     "metadata": {},
     "output_type": "execute_result"
    }
   ],
   "source": [
    "len(abbreviated_trajectories[0])"
   ]
  },
  {
   "cell_type": "code",
   "execution_count": 337,
   "metadata": {
    "pycharm": {
     "is_executing": false,
     "name": "#%%\n"
    }
   },
   "outputs": [
    {
     "name": "stdout",
     "output_type": "stream",
     "text": [
      "starting\n"
     ]
    },
    {
     "data": {
      "application/vnd.jupyter.widget-view+json": {
       "model_id": "e6ebc518aa7048628d3c460abf454809",
       "version_major": 2,
       "version_minor": 0
      },
      "text/plain": [
       "HBox(children=(IntProgress(value=0, max=8100), HTML(value='')))"
      ]
     },
     "metadata": {},
     "output_type": "display_data"
    },
    {
     "name": "stdout",
     "output_type": "stream",
     "text": [
      "100\n",
      "100\n",
      "100\n",
      "100\n",
      "100\n",
      "100\n",
      "100\n",
      "100\n",
      "100\n",
      "100\n",
      "100\n",
      "100\n",
      "100\n",
      "100\n",
      "100\n",
      "100\n",
      "100\n",
      "100\n",
      "100\n",
      "100\n",
      "100\n",
      "100\n",
      "100\n",
      "100\n",
      "100\n",
      "100\n",
      "100\n",
      "100\n",
      "100\n",
      "100\n",
      "100\n",
      "100\n",
      "100\n",
      "100\n",
      "100\n",
      "100\n",
      "100\n",
      "100\n",
      "100\n",
      "100\n",
      "100\n",
      "100\n",
      "100\n",
      "100\n",
      "100\n",
      "100\n",
      "100\n",
      "100\n",
      "100\n",
      "100\n",
      "100\n",
      "100\n",
      "100\n",
      "100\n",
      "100\n",
      "100\n",
      "100\n",
      "100\n",
      "100\n",
      "100\n",
      "100\n",
      "100\n",
      "100\n",
      "100\n",
      "100\n",
      "100\n",
      "100\n",
      "100\n",
      "100\n",
      "100\n",
      "100\n",
      "100\n",
      "100\n",
      "100\n",
      "100\n",
      "100\n",
      "100\n",
      "100\n",
      "100\n",
      "100\n",
      "100\n"
     ]
    }
   ],
   "source": [
    "RESULTS_QUEUE = Queue()\n",
    "STATUS_QUEUE = Queue()\n",
    "#input_arr = abbreviations\n",
    "input_arr = train_test_set\n",
    "thread = Thread(target=progress_monitor, args=(len(input_arr)*100,))\n",
    "thread.start()\n",
    "print(\"starting\")\n",
    "results = None\n",
    "with Pool(8) as pool:\n",
    "        results = pool.map(filter_trajectory, input_arr)"
   ]
  },
  {
   "cell_type": "code",
   "execution_count": 22,
   "metadata": {},
   "outputs": [
    {
     "data": {
      "text/plain": [
       "2"
      ]
     },
     "execution_count": 22,
     "metadata": {},
     "output_type": "execute_result"
    }
   ],
   "source": [
    "len(results[0])"
   ]
  },
  {
   "cell_type": "code",
   "execution_count": null,
   "metadata": {},
   "outputs": [],
   "source": [
    "# # targets = []\n",
    "# # predictions = []\n",
    "# # targets_append = targets.append\n",
    "# # predictions_append = predictions.append\n",
    "# while RESULTS_QUEUE.qsize() != 0:\n",
    "#     print(\"popping\")\n",
    "#     traj_targets, traj_predictions = RESULTS_QUEUE.get()\n",
    "#     for t in traj_targets:\n",
    "#         targets_append(t)\n",
    "#     for p in traj_predictions:\n",
    "#         predictions_append(p)"
   ]
  },
  {
   "cell_type": "code",
   "execution_count": 338,
   "metadata": {},
   "outputs": [],
   "source": [
    "targets,predictions = zip(*results)"
   ]
  },
  {
   "cell_type": "code",
   "execution_count": 339,
   "metadata": {},
   "outputs": [],
   "source": [
    "targets = np.concatenate(targets)\n",
    "predictions = np.concatenate(predictions)\n"
   ]
  },
  {
   "cell_type": "code",
   "execution_count": 243,
   "metadata": {},
   "outputs": [
    {
     "data": {
      "text/plain": [
       "40500"
      ]
     },
     "execution_count": 243,
     "metadata": {},
     "output_type": "execute_result"
    }
   ],
   "source": [
    "len(targets)"
   ]
  },
  {
   "cell_type": "code",
   "execution_count": 365,
   "metadata": {},
   "outputs": [
    {
     "data": {
      "text/plain": [
       "['[ 1.  1. -1.  1.]',\n",
       " '[ 1.  1. -1.  1.]',\n",
       " '[ 1.  1. -1.  1.]',\n",
       " '[ 1.  1. -1.  1.]',\n",
       " '[ 1.  1. -1.  1.]',\n",
       " '[ 1.  1. -1.  1.]',\n",
       " '[ 1.  1. -1.  1.]',\n",
       " '[ 1.  1. -1.  1.]',\n",
       " '[ 1.  1. -1.  1.]',\n",
       " '[ 1.  1. -1.  1.]']"
      ]
     },
     "execution_count": 365,
     "metadata": {},
     "output_type": "execute_result"
    }
   ],
   "source": [
    "targets[0:10]\n",
    "#targets = [str(np.array(eval(t))) for t in targets]\n",
    "targets[-10:]"
   ]
  },
  {
   "cell_type": "code",
   "execution_count": 274,
   "metadata": {},
   "outputs": [
    {
     "data": {
      "text/plain": [
       "array(['[1. 0. 1. 0.]', '[1. 0. 1. 0.]', '[1. 0. 1. 0.]', '[1. 0. 1. 0.]',\n",
       "       '[1. 0. 1. 0.]', '[1. 0. 1. 0.]', '[1. 0. 1. 0.]', '[1. 0. 1. 0.]',\n",
       "       '[1. 0. 1. 0.]', '[1. 0. 1. 0.]', '[1. 0. 1. 0.]', '[1. 0. 1. 0.]',\n",
       "       '[1. 0. 1. 0.]', '[1. 0. 1. 0.]', '[1. 0. 1. 0.]', '[1. 0. 1. 0.]',\n",
       "       '[1. 0. 1. 0.]', '[1. 0. 1. 0.]', '[1. 0. 1. 0.]', '[1. 0. 1. 0.]',\n",
       "       '[1. 0. 1. 0.]', '[1. 0. 1. 0.]', '[1. 0. 1. 1.]', '[1. 0. 1. 1.]',\n",
       "       '[1. 0. 1. 1.]', '[1. 0. 1. 1.]', '[1. 0. 1. 1.]', '[1. 0. 1. 1.]',\n",
       "       '[1. 0. 1. 1.]', '[1. 0. 1. 1.]', '[1. 0. 1. 1.]', '[1. 0. 1. 1.]',\n",
       "       '[1. 0. 1. 1.]', '[1. 0. 1. 1.]', '[1. 0. 1. 1.]', '[1. 0. 1. 1.]',\n",
       "       '[1. 0. 1. 1.]', '[1. 0. 1. 1.]', '[1. 0. 1. 1.]', '[1. 0. 1. 1.]',\n",
       "       '[1. 0. 1. 1.]', '[1. 0. 1. 1.]', '[1. 0. 1. 1.]', '[1. 0. 1. 1.]',\n",
       "       '[1. 0. 1. 1.]', '[1. 0. 1. 1.]', '[1. 0. 1. 1.]', '[1. 0. 1. 1.]',\n",
       "       '[1. 0. 1. 1.]', '[1. 0. 1. 1.]'], dtype='<U17')"
      ]
     },
     "execution_count": 274,
     "metadata": {},
     "output_type": "execute_result"
    }
   ],
   "source": [
    "targets[90:100]\n",
    "predictions[50:100]"
   ]
  },
  {
   "cell_type": "code",
   "execution_count": null,
   "metadata": {
    "pycharm": {
     "is_executing": false,
     "name": "#%%\n"
    }
   },
   "outputs": [],
   "source": [
    "# targets = []\n",
    "# predictions = []\n",
    "# targets_append = targets.append\n",
    "# predictions_append = predictions.append\n",
    "# for i,trajectory in enumerate(test_trajectories):\n",
    "#     b = BayesFilter(task_strings,t_func,o_func)\n",
    "#     for step in trajectory:\n",
    "#         standardized_step = metric_standardize(step, test_m, test_std)\n",
    "#         belief = b.observation_step(standardized_step)\n",
    "#         prediction = max(belief, key=lambda x :belief[x])\n",
    "#         #print(\"Target: {}, Prediction: {}\".format(test_labels[i],prediction))\n",
    "#         targets_append(test_labels[i])\n",
    "#         predictions_append(prediction)"
   ]
  },
  {
   "cell_type": "code",
   "execution_count": 341,
   "metadata": {
    "pycharm": {
     "is_executing": false,
     "name": "#%%\n"
    }
   },
   "outputs": [
    {
     "name": "stdout",
     "output_type": "stream",
     "text": [
      "Simple_Accuracy: 2137/8100 = 0.26382716049382715\n"
     ]
    }
   ],
   "source": [
    "simple_accuracy = sum([1 if prediction == targets[i] else 0 for i,prediction in enumerate(predictions)])\n",
    "print(\"Simple_Accuracy: {}/{} = {}\".format(simple_accuracy,len(predictions),simple_accuracy/len(predictions)))"
   ]
  },
  {
   "cell_type": "code",
   "execution_count": 342,
   "metadata": {
    "pycharm": {
     "name": "#%%\n"
    }
   },
   "outputs": [],
   "source": [
    "cm = confusion_matrix(targets, predictions, labels=task_strings)"
   ]
  },
  {
   "cell_type": "code",
   "execution_count": 343,
   "metadata": {
    "pycharm": {
     "name": "#%%\n"
    },
    "scrolled": true
   },
   "outputs": [
    {
     "name": "stdout",
     "output_type": "stream",
     "text": [
      "[0.   0.   0.   0.   0.   0.   0.   0.   0.   0.   0.   0.   0.   0.\n",
      " 0.   0.   0.   0.   0.   0.   0.   0.   0.   0.   0.   0.   0.   0.\n",
      " 0.   0.   0.   0.   0.   0.   0.   0.   0.   0.   0.   0.   0.   0.\n",
      " 0.   0.   0.   0.   0.   0.   0.   0.   0.   0.   0.   0.   0.75 0.25\n",
      " 0.   0.   0.   0.   0.   0.   0.   0.   0.   0.   0.   0.   0.   0.\n",
      " 0.   0.   0.   0.   0.   0.   0.   0.   0.   0.   0.  ]\n"
     ]
    },
    {
     "data": {
      "image/png": "[encoded data removed]",
      "text/plain": [
       "<Figure size 504x432 with 2 Axes>"
      ]
     },
     "metadata": {
      "needs_background": "light"
     },
     "output_type": "display_data"
    }
   ],
   "source": [
    "fig = plt.figure(figsize=(7, 6))\n",
    "xmin = 0 #192\n",
    "xmax = len(task_str) #218\n",
    "ymin = 0 #110\n",
    "ymax = len(task_str) #137\n",
    "cm = cm.astype(float)\n",
    "for row in range(cm.shape[0]):\n",
    "    tot_freq = np.sum(cm[row, :])\n",
    "    cm[row,:] = cm[row,:]/tot_freq\n",
    "print(cm[0, :])\n",
    "#sns.heatmap(cm, cmap='YlGnBu', square=1, annot=True, fmt=\"d\", linewidths=1, xticklabels=task_names, yticklabels=task_names)\n",
    "sns.heatmap(cm, cmap='YlGnBu', square=1)\n",
    "#sns.heatmap(cm[ymin:ymax, xmin:xmax], cmap='YlGnBu', square=1, annot=False, xticklabels=task_names[xmin:xmax], yticklabels=task_names[ymin:ymax])\n",
    "ax = plt.gca()\n",
    "ax.xaxis.tick_top()\n",
    "ax.tick_params(axis=\"x\", rotation=90)\n",
    "ax.tick_params(width=0)\n",
    "ax.xaxis.set_label_position('top')\n",
    "# plt.xticks(np.arange(len(task_names)), task_names, rotation=90)\n",
    "#plt.xlim(0, len(task_names))\n",
    "#plt.yticks(np.arange(len(task_names)), task_names, rotate=90)\n",
    "#plt.ylim(len(task_names), 0)  # inverted range for \"upper\" origin\n",
    "plt.ylabel('Target')\n",
    "plt.xlabel('Prediction')\n",
    "plt.title('Multi-Objective Task Prediction with Gaussian KDE Emissions Model')\n",
    "plt.show()\n"
   ]
  },
  {
   "cell_type": "code",
   "execution_count": 349,
   "metadata": {
    "scrolled": false
   },
   "outputs": [
    {
     "data": {
      "image/png": "[encoded data removed]",
      "text/plain": [
       "<Figure size 1440x576 with 8 Axes>"
      ]
     },
     "metadata": {
      "needs_background": "light"
     },
     "output_type": "display_data"
    }
   ],
   "source": [
    "import agents.plot_hist\n",
    "agents.plot_hist.plot_hist(training_dict,['[1.0, 0.0, 1.0, 1.0]','[0.0, 0.0, 1.0, 1.0]'], transform=None, pop_m=standard_m,pop_std=standard_std)"
   ]
  },
  {
   "cell_type": "code",
   "execution_count": 387,
   "metadata": {},
   "outputs": [
    {
     "data": {
      "text/plain": [
       "1.6534469595286814e-05"
      ]
     },
     "execution_count": 387,
     "metadata": {},
     "output_type": "execute_result"
    }
   ],
   "source": [
    "np.exp(kde_dict[str(np.array([1., 0., 0., 0.]))].score([[2,-0.5,1.1,1.1]]))"
   ]
  },
  {
   "cell_type": "code",
   "execution_count": 377,
   "metadata": {},
   "outputs": [
    {
     "data": {
      "text/plain": [
       "0.1498851434773772"
      ]
     },
     "execution_count": 377,
     "metadata": {},
     "output_type": "execute_result"
    }
   ],
   "source": [
    "np.exp(kde_dict[str(np.array([0., 0., 1., 1.]))].score([[0.5,-0.5,1.1,1.1]]))"
   ]
  },
  {
   "cell_type": "code",
   "execution_count": 347,
   "metadata": {},
   "outputs": [
    {
     "data": {
      "text/plain": [
       "<module 'agents.plot_hist' from '/home/dev/PycharmProjects/distopia_agents/agents/plot_hist.py'>"
      ]
     },
     "execution_count": 347,
     "metadata": {},
     "output_type": "execute_result"
    }
   ],
   "source": [
    "import importlib\n",
    "import sys\n",
    "importlib.reload(sys.modules['agents.plot_hist'])"
   ]
  },
  {
   "cell_type": "code",
   "execution_count": 192,
   "metadata": {
    "scrolled": false
   },
   "outputs": [
    {
     "data": {
      "image/png": "[encoded data removed]",
      "text/plain": [
       "<Figure size 1440x576 with 8 Axes>"
      ]
     },
     "metadata": {
      "needs_background": "light"
     },
     "output_type": "display_data"
    }
   ],
   "source": [
    "agents.plot_hist.plot_hist(abbreviations_dict,[str([1.0, 0.0, 1.0, 1.0]),str([0.0, 0.0, 1.0, 1.0])], pop_m=standard_m,pop_std=standard_std)"
   ]
  },
  {
   "cell_type": "code",
   "execution_count": null,
   "metadata": {},
   "outputs": [],
   "source": []
  }
 ],
 "metadata": {
  "kernelspec": {
   "display_name": "Python 3",
   "language": "python",
   "name": "python3"
  },
  "language_info": {
   "codemirror_mode": {
    "name": "ipython",
    "version": 3
   },
   "file_extension": ".py",
   "mimetype": "text/x-python",
   "name": "python",
   "nbconvert_exporter": "python",
   "pygments_lexer": "ipython3",
   "version": "3.6.8"
  },
  "pycharm": {
   "stem_cell": {
    "cell_type": "raw",
    "metadata": {
     "collapsed": false
    },
    "source": []
   }
  }
 },
 "nbformat": 4,
 "nbformat_minor": 1
}
