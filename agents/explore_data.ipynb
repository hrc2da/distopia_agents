{
 "cells": [
  {
   "cell_type": "code",
   "execution_count": 1,
   "metadata": {
    "pycharm": {
     "is_executing": false
    }
   },
   "outputs": [],
   "source": [
    "from threading import Thread\n",
    "from agents.bfilter import BayesFilter\n",
    "from agents.utils import hierarchical_sort, str2arr\n",
    "\n",
    "import json\n",
    "import numpy as np\n",
    "import pickle as pkl\n",
    "from sklearn.neighbors import KernelDensity\n",
    "from sklearn.metrics import confusion_matrix\n",
    "import itertools\n",
    "from sklearn.metrics import confusion_matrix\n",
    "from matplotlib import pyplot as plt\n",
    "import seaborn as sns\n",
    "from multiprocessing import Pool, Queue\n",
    "from tqdm import tqdm, tqdm_notebook, tnrange"
   ]
  },
  {
   "cell_type": "code",
   "execution_count": 2,
   "metadata": {
    "pycharm": {
     "is_executing": false,
     "name": "#%%\n"
    }
   },
   "outputs": [],
   "source": [
    "# set filenames\n",
    "# data we're standardizing on (from the one-hots)\n",
    "standardization_f = 'resources/stripped_normalization.pkl'\n",
    "\n",
    "# training data for kdes, this should be a dict of metrics keyed on task\n",
    "training_f = 'resources/243_raw_data.pkl' \n",
    "\n",
    "# test data for kdes. this includes the task, metrics, and beliefs\n",
    "test_f ='results/results_file_full_243_run0_90_each'\n",
    "\n"
   ]
  },
  {
   "cell_type": "code",
   "execution_count": 3,
   "metadata": {
    "pycharm": {
     "is_executing": false,
     "name": "#%%\n"
    }
   },
   "outputs": [
    {
     "name": "stdout",
     "output_type": "stream",
     "text": [
      "(5,) (5,)\n",
      "[7.02134345e+05 1.32097649e+05 2.18597774e-01 4.19621716e-01\n",
      " 7.15822936e-02] [2.07865180e+05 5.35621885e+04 5.92860480e-02 2.26446118e-02\n",
      " 3.14796257e-02]\n"
     ]
    }
   ],
   "source": [
    "# load the standardization params\n",
    "with open(standardization_f,'rb') as sfile:\n",
    "    standard_m, standard_std = pkl.load(sfile)\n",
    "print(standard_m.shape,standard_std.shape)\n",
    "print(standard_m,standard_std)"
   ]
  },
  {
   "cell_type": "code",
   "execution_count": 4,
   "metadata": {
    "pycharm": {
     "is_executing": false,
     "name": "#%%\n"
    }
   },
   "outputs": [
    {
     "name": "stdout",
     "output_type": "stream",
     "text": [
      "[1.0, 0.0, 0.0, 0.0, -1.0] (8358, 5)\n",
      "[-1.0, 0.0, -1.0, 1.0, -1.0] (8550, 5)\n",
      "[0.0, 0.0, 1.0, 1.0, 0.0] (7646, 5)\n",
      "[0.0, 1.0, -1.0, -1.0, 1.0] (8069, 5)\n",
      "[1.0, 1.0, 1.0, -1.0, 0.0] (7337, 5)\n",
      "[0.0, 1.0, -1.0, 0.0, 1.0] (8522, 5)\n",
      "[1.0, 1.0, 0.0, -1.0, 1.0] (8276, 5)\n",
      "[-1.0, 1.0, -1.0, 0.0, 0.0] (8879, 5)\n",
      "[0.0, 0.0, 1.0, 0.0, -1.0] (7567, 5)\n",
      "[0.0, -1.0, 1.0, 0.0, 1.0] (7554, 5)\n",
      "[0.0, 1.0, 1.0, 0.0, 1.0] (7860, 5)\n",
      "[1.0, 1.0, -1.0, -1.0, 1.0] (8228, 5)\n",
      "[-1.0, 1.0, 1.0, -1.0, 1.0] (6465, 5)\n",
      "[0.0, -1.0, 0.0, 0.0, 1.0] (8338, 5)\n",
      "[0.0, 0.0, 1.0, 0.0, 1.0] (7748, 5)\n",
      "[1.0, 1.0, -1.0, 1.0, -1.0] (8372, 5)\n",
      "[0.0, -1.0, 1.0, -1.0, 1.0] (7195, 5)\n",
      "[0.0, 0.0, 0.0, -1.0, -1.0] (8410, 5)\n",
      "[-1.0, -1.0, 0.0, 1.0, 0.0] (8224, 5)\n",
      "[0.0, 1.0, 0.0, -1.0, -1.0] (8104, 5)\n",
      "[0.0, 1.0, 0.0, 1.0, 1.0] (8453, 5)\n",
      "[0.0, 0.0, 0.0, -1.0, 1.0] (8178, 5)\n",
      "[0.0, 1.0, 1.0, 1.0, 0.0] (7680, 5)\n",
      "[0.0, 0.0, 1.0, 1.0, -1.0] (7365, 5)\n",
      "[1.0, -1.0, 0.0, 0.0, 1.0] (8300, 5)\n",
      "[0.0, 1.0, 1.0, 0.0, -1.0] (7575, 5)\n",
      "[1.0, -1.0, 1.0, -1.0, -1.0] (7627, 5)\n",
      "[0.0, -1.0, -1.0, 0.0, 0.0] (7317, 5)\n",
      "[0.0, 1.0, 1.0, -1.0, -1.0] (7500, 5)\n",
      "[-1.0, -1.0, -1.0, -1.0, 1.0] (8261, 5)\n",
      "[-1.0, 0.0, 1.0, 0.0, 1.0] (8122, 5)\n",
      "[-1.0, 0.0, 0.0, 0.0, 1.0] (8969, 5)\n",
      "[1.0, -1.0, 0.0, -1.0, -1.0] (8277, 5)\n",
      "[0.0, 0.0, 1.0, -1.0, 0.0] (7534, 5)\n",
      "[1.0, -1.0, -1.0, 0.0, 1.0] (8415, 5)\n",
      "[-1.0, 1.0, -1.0, 0.0, 1.0] (8752, 5)\n",
      "[1.0, 0.0, 0.0, -1.0, 1.0] (8262, 5)\n",
      "[-1.0, 0.0, -1.0, 0.0, -1.0] (8827, 5)\n",
      "[1.0, 0.0, 0.0, 0.0, 1.0] (8462, 5)\n",
      "[0.0, 1.0, 0.0, -1.0, 1.0] (8333, 5)\n",
      "[1.0, -1.0, 0.0, 1.0, 1.0] (8055, 5)\n",
      "[-1.0, 1.0, -1.0, -1.0, 0.0] (8475, 5)\n",
      "[0.0, 1.0, 1.0, -1.0, 1.0] (7505, 5)\n",
      "[1.0, 1.0, 1.0, -1.0, 1.0] (7518, 5)\n",
      "[0.0, 0.0, -1.0, 0.0, 0.0] (6957, 5)\n",
      "[-1.0, 1.0, 0.0, 1.0, 0.0] (8591, 5)\n",
      "[1.0, 0.0, 1.0, 1.0, -1.0] (7504, 5)\n",
      "[0.0, 1.0, -1.0, 1.0, 0.0] (8323, 5)\n",
      "[0.0, -1.0, 0.0, 1.0, -1.0] (7978, 5)\n",
      "[-1.0, 0.0, 0.0, 1.0, -1.0] (8524, 5)\n",
      "[-1.0, 0.0, -1.0, -1.0, -1.0] (8234, 5)\n",
      "[-1.0, 0.0, -1.0, 0.0, 0.0] (9080, 5)\n",
      "[1.0, 0.0, -1.0, 0.0, 0.0] (8551, 5)\n",
      "[1.0, 1.0, 1.0, 0.0, 0.0] (7854, 5)\n",
      "[0.0, 1.0, -1.0, 1.0, 1.0] (8446, 5)\n",
      "[-1.0, -1.0, -1.0, 1.0, 1.0] (8500, 5)\n",
      "[-1.0, 1.0, 0.0, -1.0, -1.0] (8482, 5)\n",
      "[0.0, 0.0, -1.0, 0.0, -1.0] (8327, 5)\n",
      "[0.0, -1.0, 1.0, 1.0, 1.0] (7686, 5)\n",
      "[1.0, 0.0, -1.0, 0.0, -1.0] (8237, 5)\n",
      "[-1.0, 1.0, -1.0, 1.0, -1.0] (8538, 5)\n",
      "[0.0, -1.0, -1.0, 1.0, 1.0] (8375, 5)\n",
      "[-1.0, 0.0, 1.0, 0.0, 0.0] (8126, 5)\n",
      "[1.0, 1.0, 0.0, 1.0, 0.0] (8359, 5)\n",
      "[1.0, 0.0, -1.0, -1.0, 0.0] (8301, 5)\n",
      "[-1.0, 1.0, 0.0, 0.0, 1.0] (8729, 5)\n",
      "[-1.0, -1.0, 1.0, 0.0, -1.0] (7621, 5)\n",
      "[1.0, -1.0, -1.0, 1.0, 1.0] (8354, 5)\n",
      "[1.0, -1.0, 1.0, -1.0, 0.0] (7567, 5)\n",
      "[0.0, 1.0, 0.0, 0.0, -1.0] (8246, 5)\n",
      "[-1.0, -1.0, 1.0, 0.0, 0.0] (7884, 5)\n",
      "[-1.0, -1.0, 1.0, 1.0, 1.0] (7832, 5)\n",
      "[0.0, 1.0, -1.0, -1.0, -1.0] (8186, 5)\n",
      "[1.0, 1.0, 0.0, 0.0, -1.0] (8016, 5)\n",
      "[1.0, 1.0, -1.0, 0.0, -1.0] (8304, 5)\n",
      "[1.0, 1.0, 0.0, -1.0, 0.0] (8030, 5)\n",
      "[1.0, -1.0, -1.0, -1.0, -1.0] (8228, 5)\n",
      "[-1.0, 0.0, -1.0, 0.0, 1.0] (8867, 5)\n",
      "[-1.0, 0.0, 1.0, 1.0, 1.0] (8102, 5)\n",
      "[1.0, 1.0, -1.0, -1.0, -1.0] (8258, 5)\n",
      "[-1.0, 0.0, -1.0, -1.0, 0.0] (8481, 5)\n",
      "[0.0, 0.0, -1.0, -1.0, 0.0] (8201, 5)\n",
      "[-1.0, 0.0, 0.0, 1.0, 1.0] (8695, 5)\n",
      "[-1.0, 0.0, 1.0, -1.0, -1.0] (6816, 5)\n",
      "[1.0, 0.0, 0.0, 0.0, 0.0] (8423, 5)\n",
      "[-1.0, 0.0, 0.0, 0.0, -1.0] (8868, 5)\n",
      "[0.0, 0.0, 1.0, -1.0, -1.0] (7486, 5)\n",
      "[0.0, 0.0, 1.0, -1.0, 1.0] (7491, 5)\n",
      "[0.0, -1.0, 0.0, 1.0, 0.0] (8114, 5)\n",
      "[-1.0, 1.0, 0.0, 1.0, -1.0] (8424, 5)\n",
      "[0.0, 1.0, 1.0, 1.0, -1.0] (7596, 5)\n",
      "[0.0, 0.0, 0.0, 0.0, 0.0] (6558, 5)\n",
      "[1.0, -1.0, 1.0, 0.0, 1.0] (7677, 5)\n",
      "[1.0, -1.0, 1.0, -1.0, 1.0] (7469, 5)\n",
      "[1.0, 1.0, 0.0, 1.0, -1.0] (8175, 5)\n",
      "[1.0, -1.0, -1.0, -1.0, 1.0] (8283, 5)\n",
      "[1.0, 0.0, 0.0, 1.0, 0.0] (8172, 5)\n",
      "[-1.0, 1.0, 0.0, -1.0, 1.0] (8322, 5)\n",
      "[-1.0, -1.0, 0.0, 1.0, -1.0] (8225, 5)\n",
      "[0.0, 1.0, 0.0, 0.0, 1.0] (8401, 5)\n",
      "[-1.0, -1.0, 1.0, -1.0, -1.0] (7446, 5)\n",
      "[0.0, -1.0, 1.0, -1.0, 0.0] (7542, 5)\n",
      "[0.0, -1.0, 1.0, 1.0, -1.0] (6618, 5)\n",
      "[1.0, 0.0, -1.0, 1.0, -1.0] (8247, 5)\n",
      "[-1.0, 1.0, 1.0, -1.0, 0.0] (6972, 5)\n",
      "[1.0, 0.0, -1.0, 1.0, 0.0] (8392, 5)\n",
      "[-1.0, 1.0, 0.0, 1.0, 1.0] (8687, 5)\n",
      "[0.0, 1.0, 1.0, 0.0, 0.0] (6672, 5)\n",
      "[1.0, 1.0, 1.0, 0.0, 1.0] (7722, 5)\n",
      "[1.0, -1.0, 0.0, 1.0, 0.0] (8188, 5)\n",
      "[1.0, 0.0, 0.0, 1.0, -1.0] (8308, 5)\n",
      "[-1.0, -1.0, -1.0, 1.0, -1.0] (8359, 5)\n",
      "[1.0, -1.0, 1.0, 1.0, -1.0] (7464, 5)\n",
      "[0.0, 0.0, -1.0, 1.0, 0.0] (8473, 5)\n",
      "[-1.0, -1.0, -1.0, 0.0, 1.0] (8577, 5)\n",
      "[0.0, 0.0, 0.0, -1.0, 0.0] (8033, 5)\n",
      "[1.0, 0.0, 0.0, -1.0, 0.0] (8380, 5)\n",
      "[-1.0, 1.0, 0.0, -1.0, 0.0] (8352, 5)\n",
      "[1.0, -1.0, 1.0, 0.0, 0.0] (7465, 5)\n",
      "[-1.0, -1.0, -1.0, -1.0, -1.0] (8188, 5)\n",
      "[-1.0, 0.0, -1.0, -1.0, 1.0] (8557, 5)\n",
      "[1.0, -1.0, 1.0, 0.0, -1.0] (7646, 5)\n",
      "[1.0, 1.0, 0.0, -1.0, -1.0] (7967, 5)\n",
      "[1.0, 0.0, 1.0, -1.0, -1.0] (7657, 5)\n",
      "[0.0, 0.0, 0.0, 0.0, 1.0] (8521, 5)\n",
      "[1.0, 1.0, 1.0, -1.0, -1.0] (7355, 5)\n",
      "[-1.0, 0.0, 0.0, -1.0, 1.0] (8558, 5)\n",
      "[1.0, 0.0, -1.0, -1.0, -1.0] (8324, 5)\n",
      "[-1.0, -1.0, 0.0, -1.0, 0.0] (8075, 5)\n",
      "[-1.0, 0.0, 1.0, -1.0, 0.0] (7623, 5)\n",
      "[1.0, -1.0, 0.0, -1.0, 0.0] (8214, 5)\n",
      "[0.0, 1.0, -1.0, -1.0, 0.0] (8303, 5)\n",
      "[0.0, -1.0, 0.0, -1.0, 0.0] (8114, 5)\n",
      "[0.0, 1.0, 0.0, -1.0, 0.0] (8211, 5)\n",
      "[-1.0, -1.0, 0.0, 0.0, 0.0] (8694, 5)\n",
      "[-1.0, -1.0, -1.0, 1.0, 0.0] (8372, 5)\n",
      "[-1.0, 1.0, -1.0, -1.0, 1.0] (8497, 5)\n",
      "[0.0, 1.0, -1.0, 0.0, 0.0] (7249, 5)\n",
      "[1.0, 1.0, -1.0, -1.0, 0.0] (8201, 5)\n",
      "[-1.0, 0.0, 1.0, 1.0, -1.0] (7742, 5)\n",
      "[-1.0, 0.0, 0.0, 0.0, 0.0] (9154, 5)\n",
      "[0.0, -1.0, 1.0, 0.0, -1.0] (7349, 5)\n",
      "[0.0, 1.0, -1.0, 0.0, -1.0] (8436, 5)\n",
      "[0.0, 1.0, 0.0, 1.0, -1.0] (8278, 5)\n",
      "[-1.0, 0.0, 1.0, -1.0, 1.0] (7677, 5)\n",
      "[-1.0, 1.0, -1.0, 1.0, 1.0] (8536, 5)\n",
      "[-1.0, 0.0, 1.0, 1.0, 0.0] (7831, 5)\n",
      "[0.0, -1.0, 0.0, 0.0, -1.0] (8014, 5)\n",
      "[-1.0, -1.0, -1.0, 0.0, 0.0] (8734, 5)\n",
      "[1.0, 0.0, 0.0, -1.0, -1.0] (8381, 5)\n",
      "[0.0, 1.0, 0.0, 0.0, 0.0] (6861, 5)\n",
      "[1.0, -1.0, -1.0, 0.0, -1.0] (8226, 5)\n",
      "[1.0, 1.0, 1.0, 1.0, 1.0] (7705, 5)\n",
      "[1.0, -1.0, 0.0, 1.0, -1.0] (8119, 5)\n",
      "[1.0, 1.0, 1.0, 0.0, -1.0] (7642, 5)\n",
      "[1.0, 1.0, 0.0, 1.0, 1.0] (8298, 5)\n",
      "[-1.0, -1.0, 1.0, 1.0, 0.0] (7729, 5)\n",
      "[1.0, 1.0, 1.0, 1.0, 0.0] (7665, 5)\n",
      "[1.0, 1.0, 0.0, 0.0, 0.0] (8412, 5)\n",
      "[0.0, 0.0, -1.0, -1.0, -1.0] (8243, 5)\n",
      "[-1.0, 0.0, -1.0, 1.0, 0.0] (8705, 5)\n",
      "[0.0, 0.0, 0.0, 1.0, -1.0] (8171, 5)\n",
      "[0.0, 0.0, 0.0, 1.0, 1.0] (8668, 5)\n",
      "[-1.0, 0.0, 0.0, -1.0, 0.0] (8447, 5)\n",
      "[0.0, -1.0, -1.0, -1.0, 0.0] (8260, 5)\n",
      "[-1.0, 1.0, 1.0, 0.0, -1.0] (7846, 5)\n",
      "[-1.0, 1.0, 0.0, 0.0, -1.0] (8740, 5)\n",
      "[1.0, -1.0, -1.0, 1.0, -1.0] (8210, 5)\n",
      "[1.0, 0.0, 1.0, 1.0, 1.0] (7808, 5)\n",
      "[0.0, -1.0, 0.0, -1.0, -1.0] (8270, 5)\n",
      "[0.0, 0.0, -1.0, 1.0, -1.0] (8251, 5)\n",
      "[-1.0, -1.0, 1.0, -1.0, 0.0] (7399, 5)\n",
      "[-1.0, 1.0, 1.0, -1.0, -1.0] (7706, 5)\n",
      "[-1.0, 1.0, 1.0, 1.0, 1.0] (8015, 5)\n",
      "[0.0, -1.0, 0.0, 1.0, 1.0] (8230, 5)\n",
      "[0.0, -1.0, 0.0, 0.0, 0.0] (6924, 5)\n",
      "[0.0, 0.0, 1.0, 0.0, 0.0] (5897, 5)\n",
      "[0.0, 1.0, 0.0, 1.0, 0.0] (8369, 5)\n",
      "[0.0, 0.0, 0.0, 0.0, -1.0] (8027, 5)\n",
      "[1.0, 0.0, 0.0, 1.0, 1.0] (8317, 5)\n",
      "[0.0, -1.0, 1.0, 0.0, 0.0] (6538, 5)\n",
      "[0.0, -1.0, 0.0, -1.0, 1.0] (8233, 5)\n",
      "[-1.0, -1.0, 1.0, 0.0, 1.0] (7733, 5)\n",
      "[1.0, -1.0, -1.0, 0.0, 0.0] (8315, 5)\n",
      "[1.0, 1.0, 0.0, 0.0, 1.0] (8387, 5)\n",
      "[0.0, -1.0, 1.0, 1.0, 0.0] (7516, 5)\n",
      "[0.0, -1.0, 1.0, -1.0, -1.0] (7471, 5)\n",
      "[0.0, 0.0, -1.0, 1.0, 1.0] (8505, 5)\n",
      "[-1.0, -1.0, 1.0, 1.0, -1.0] (7565, 5)\n",
      "[-1.0, -1.0, 0.0, -1.0, 1.0] (8173, 5)\n",
      "[-1.0, -1.0, -1.0, 0.0, -1.0] (8438, 5)\n",
      "[0.0, 1.0, 1.0, 1.0, 1.0] (7896, 5)\n",
      "[1.0, 0.0, 1.0, -1.0, 0.0] (7469, 5)\n",
      "[0.0, 0.0, 0.0, 1.0, 0.0] (8357, 5)\n",
      "[1.0, 0.0, 1.0, 0.0, -1.0] (7689, 5)\n",
      "[1.0, 0.0, -1.0, 1.0, 1.0] (8419, 5)\n",
      "[-1.0, 0.0, 0.0, 1.0, 0.0] (8667, 5)\n",
      "[1.0, 0.0, 1.0, -1.0, 1.0] (7573, 5)\n",
      "[-1.0, 0.0, 0.0, -1.0, -1.0] (8384, 5)\n",
      "[-1.0, -1.0, -1.0, -1.0, 0.0] (8263, 5)\n",
      "[1.0, -1.0, -1.0, -1.0, 0.0] (8275, 5)\n",
      "[-1.0, 1.0, 1.0, 0.0, 1.0] (8122, 5)\n",
      "[1.0, 1.0, -1.0, 0.0, 0.0] (8463, 5)\n",
      "[0.0, -1.0, -1.0, 1.0, 0.0] (8166, 5)\n",
      "[1.0, 0.0, 1.0, 0.0, 0.0] (7795, 5)\n",
      "[0.0, 1.0, 1.0, -1.0, 0.0] (7466, 5)\n",
      "[1.0, 0.0, -1.0, -1.0, 1.0] (8396, 5)\n",
      "[0.0, -1.0, -1.0, -1.0, -1.0] (8023, 5)\n",
      "[1.0, 0.0, 1.0, 0.0, 1.0] (7555, 5)\n",
      "[1.0, -1.0, 0.0, -1.0, 1.0] (8289, 5)\n",
      "[0.0, -1.0, -1.0, 0.0, 1.0] (8416, 5)\n",
      "[-1.0, 1.0, 1.0, 0.0, 0.0] (8115, 5)\n",
      "[-1.0, -1.0, 0.0, -1.0, -1.0] (8163, 5)\n",
      "[1.0, -1.0, 1.0, 1.0, 0.0] (7557, 5)\n",
      "[1.0, -1.0, 0.0, 0.0, 0.0] (8321, 5)\n",
      "[1.0, -1.0, -1.0, 1.0, 0.0] (8357, 5)\n",
      "[-1.0, 1.0, -1.0, 0.0, -1.0] (8800, 5)\n",
      "[0.0, 0.0, 1.0, 1.0, 1.0] (7703, 5)\n",
      "[1.0, 1.0, -1.0, 0.0, 1.0] (8558, 5)\n",
      "[-1.0, 1.0, -1.0, 1.0, 0.0] (8531, 5)\n",
      "[1.0, 0.0, 1.0, 1.0, 0.0] (7609, 5)\n",
      "[-1.0, -1.0, 0.0, 1.0, 1.0] (8471, 5)\n",
      "[-1.0, -1.0, 0.0, 0.0, 1.0] (8466, 5)\n",
      "[1.0, 0.0, -1.0, 0.0, 1.0] (8504, 5)\n",
      "[-1.0, 1.0, 0.0, 0.0, 0.0] (9032, 5)\n",
      "[-1.0, 1.0, -1.0, -1.0, -1.0] (8425, 5)\n",
      "[-1.0, 1.0, 1.0, 1.0, 0.0] (7869, 5)\n",
      "[0.0, -1.0, -1.0, 0.0, -1.0] (8295, 5)\n",
      "[-1.0, 0.0, -1.0, 1.0, 1.0] (8739, 5)\n",
      "[1.0, 1.0, -1.0, 1.0, 0.0] (8269, 5)\n",
      "[-1.0, 0.0, 1.0, 0.0, -1.0] (7916, 5)\n",
      "[1.0, 1.0, 1.0, 1.0, -1.0] (7525, 5)\n",
      "[0.0, -1.0, -1.0, 1.0, -1.0] (8214, 5)\n",
      "[-1.0, -1.0, 0.0, 0.0, -1.0] (8233, 5)\n",
      "[0.0, 1.0, -1.0, 1.0, -1.0] (8328, 5)\n",
      "[0.0, -1.0, -1.0, -1.0, 1.0] (8277, 5)\n",
      "[1.0, 1.0, -1.0, 1.0, 1.0] (8454, 5)\n",
      "[1.0, -1.0, 1.0, 1.0, 1.0] (7538, 5)\n",
      "[0.0, 0.0, -1.0, 0.0, 1.0] (8549, 5)\n",
      "[0.0, 0.0, -1.0, -1.0, 1.0] (8299, 5)\n",
      "[-1.0, 1.0, 1.0, 1.0, -1.0] (7700, 5)\n",
      "[1.0, -1.0, 0.0, 0.0, -1.0] (8304, 5)\n",
      "[-1.0, -1.0, 1.0, -1.0, 1.0] (7421, 5)\n"
     ]
    },
    {
     "name": "stdout",
     "output_type": "stream",
     "text": [
      "(5,) (5,)\n",
      "[6.97436397e+05 1.35466039e+05 2.25566535e-01 4.20161982e-01\n",
      " 7.25870273e-02] [1.84704200e+05 6.02510259e+04 7.51973378e-02 2.35627978e-02\n",
      " 3.54972317e-02]\n"
     ]
    }
   ],
   "source": [
    "# load the training data and parse out the overall means and stds\n",
    "train_trajectories = []\n",
    "train_labels = []\n",
    "with open(training_f, 'rb') as trainfile:\n",
    "    training_dict = pkl.load(trainfile)\n",
    "\n",
    "train_test_set = []\n",
    "for label, flattened_trajectories in training_dict.items():\n",
    "    original_length = len(flattened_trajectories)\n",
    "    leave_out_i = np.random.randint((len(flattened_trajectories)-1)/100) # skip the last one, which could be < 100\n",
    "    left_out = flattened_trajectories[leave_out_i:leave_out_i+100]\n",
    "    training_dict[label] = np.delete(flattened_trajectories,list(range(leave_out_i,leave_out_i+100)),0)\n",
    "    train_test_set.append((left_out,label))\n",
    "    assert len(training_dict[label]) + 100 == original_length\n",
    "\n",
    "for label,steps in training_dict.items():\n",
    "    print(label, steps.shape)\n",
    "    extra = len(steps) % 100 # since we only use this to test with, lop off the extra\n",
    "    if extra > 0:\n",
    "        chunks = steps[:-extra,:].reshape(len(steps)//100,100,5)\n",
    "    else:\n",
    "        chunks = steps.reshape(len(steps)//100,100,5)\n",
    "    for i in range(chunks.shape[0]):\n",
    "        train_trajectories.append(chunks[i,:])\n",
    "        train_labels.append(label)\n",
    "        \n",
    "\n",
    "all_training_data = np.concatenate([v for v in training_dict.values()])\n",
    "    \n",
    "train_m = np.mean(all_training_data,0)\n",
    "train_std = np.std(all_training_data,0)\n",
    "print(train_m.shape,train_std.shape)\n",
    "print(train_m,train_std)"
   ]
  },
  {
   "cell_type": "code",
   "execution_count": 5,
   "metadata": {
    "pycharm": {
     "is_executing": false
    }
   },
   "outputs": [
    {
     "data": {
      "text/plain": [
       "(0, 5)"
      ]
     },
     "execution_count": 5,
     "metadata": {},
     "output_type": "execute_result"
    }
   ],
   "source": [
    "steps[:-0,:].shape"
   ]
  },
  {
   "cell_type": "code",
   "execution_count": 6,
   "metadata": {
    "pycharm": {
     "is_executing": false,
     "name": "#%%\n"
    }
   },
   "outputs": [
    {
     "ename": "KeyboardInterrupt",
     "evalue": "",
     "output_type": "error",
     "traceback": [
      "\u001b[0;31m---------------------------------------------------------------------------\u001b[0m",
      "\u001b[0;31mKeyboardInterrupt\u001b[0m                         Traceback (most recent call last)",
      "\u001b[0;32m<ipython-input-6-2284d68d1b6f>\u001b[0m in \u001b[0;36m<module>\u001b[0;34m\u001b[0m\n\u001b[1;32m      3\u001b[0m \u001b[0;32mwith\u001b[0m \u001b[0mopen\u001b[0m\u001b[0;34m(\u001b[0m\u001b[0mtest_f\u001b[0m\u001b[0;34m,\u001b[0m \u001b[0;34m'r'\u001b[0m\u001b[0;34m)\u001b[0m \u001b[0;32mas\u001b[0m \u001b[0mtestfile\u001b[0m\u001b[0;34m:\u001b[0m\u001b[0;34m\u001b[0m\u001b[0;34m\u001b[0m\u001b[0m\n\u001b[1;32m      4\u001b[0m     \u001b[0;32mfor\u001b[0m \u001b[0mrow\u001b[0m \u001b[0;32min\u001b[0m \u001b[0mtestfile\u001b[0m\u001b[0;34m:\u001b[0m\u001b[0;34m\u001b[0m\u001b[0;34m\u001b[0m\u001b[0m\n\u001b[0;32m----> 5\u001b[0;31m         \u001b[0mresult\u001b[0m \u001b[0;34m=\u001b[0m \u001b[0mjson\u001b[0m\u001b[0;34m.\u001b[0m\u001b[0mloads\u001b[0m\u001b[0;34m(\u001b[0m\u001b[0mrow\u001b[0m\u001b[0;34m)\u001b[0m\u001b[0;34m\u001b[0m\u001b[0;34m\u001b[0m\u001b[0m\n\u001b[0m\u001b[1;32m      6\u001b[0m         \u001b[0mmetrics\u001b[0m \u001b[0;34m=\u001b[0m \u001b[0mresult\u001b[0m\u001b[0;34m[\u001b[0m\u001b[0;34m'metrics'\u001b[0m\u001b[0;34m]\u001b[0m\u001b[0;34m\u001b[0m\u001b[0;34m\u001b[0m\u001b[0m\n\u001b[1;32m      7\u001b[0m         \u001b[0;31m# metrics is a list of observations over each 100 steps\u001b[0m\u001b[0;34m\u001b[0m\u001b[0;34m\u001b[0m\u001b[0;34m\u001b[0m\u001b[0m\n",
      "\u001b[0;32m/usr/lib/python3.6/json/__init__.py\u001b[0m in \u001b[0;36mloads\u001b[0;34m(s, encoding, cls, object_hook, parse_float, parse_int, parse_constant, object_pairs_hook, **kw)\u001b[0m\n\u001b[1;32m    352\u001b[0m             \u001b[0mparse_int\u001b[0m \u001b[0;32mis\u001b[0m \u001b[0;32mNone\u001b[0m \u001b[0;32mand\u001b[0m \u001b[0mparse_float\u001b[0m \u001b[0;32mis\u001b[0m \u001b[0;32mNone\u001b[0m \u001b[0;32mand\u001b[0m\u001b[0;34m\u001b[0m\u001b[0;34m\u001b[0m\u001b[0m\n\u001b[1;32m    353\u001b[0m             parse_constant is None and object_pairs_hook is None and not kw):\n\u001b[0;32m--> 354\u001b[0;31m         \u001b[0;32mreturn\u001b[0m \u001b[0m_default_decoder\u001b[0m\u001b[0;34m.\u001b[0m\u001b[0mdecode\u001b[0m\u001b[0;34m(\u001b[0m\u001b[0ms\u001b[0m\u001b[0;34m)\u001b[0m\u001b[0;34m\u001b[0m\u001b[0;34m\u001b[0m\u001b[0m\n\u001b[0m\u001b[1;32m    355\u001b[0m     \u001b[0;32mif\u001b[0m \u001b[0mcls\u001b[0m \u001b[0;32mis\u001b[0m \u001b[0;32mNone\u001b[0m\u001b[0;34m:\u001b[0m\u001b[0;34m\u001b[0m\u001b[0;34m\u001b[0m\u001b[0m\n\u001b[1;32m    356\u001b[0m         \u001b[0mcls\u001b[0m \u001b[0;34m=\u001b[0m \u001b[0mJSONDecoder\u001b[0m\u001b[0;34m\u001b[0m\u001b[0;34m\u001b[0m\u001b[0m\n",
      "\u001b[0;32m/usr/lib/python3.6/json/decoder.py\u001b[0m in \u001b[0;36mdecode\u001b[0;34m(self, s, _w)\u001b[0m\n\u001b[1;32m    337\u001b[0m \u001b[0;34m\u001b[0m\u001b[0m\n\u001b[1;32m    338\u001b[0m         \"\"\"\n\u001b[0;32m--> 339\u001b[0;31m         \u001b[0mobj\u001b[0m\u001b[0;34m,\u001b[0m \u001b[0mend\u001b[0m \u001b[0;34m=\u001b[0m \u001b[0mself\u001b[0m\u001b[0;34m.\u001b[0m\u001b[0mraw_decode\u001b[0m\u001b[0;34m(\u001b[0m\u001b[0ms\u001b[0m\u001b[0;34m,\u001b[0m \u001b[0midx\u001b[0m\u001b[0;34m=\u001b[0m\u001b[0m_w\u001b[0m\u001b[0;34m(\u001b[0m\u001b[0ms\u001b[0m\u001b[0;34m,\u001b[0m \u001b[0;36m0\u001b[0m\u001b[0;34m)\u001b[0m\u001b[0;34m.\u001b[0m\u001b[0mend\u001b[0m\u001b[0;34m(\u001b[0m\u001b[0;34m)\u001b[0m\u001b[0;34m)\u001b[0m\u001b[0;34m\u001b[0m\u001b[0;34m\u001b[0m\u001b[0m\n\u001b[0m\u001b[1;32m    340\u001b[0m         \u001b[0mend\u001b[0m \u001b[0;34m=\u001b[0m \u001b[0m_w\u001b[0m\u001b[0;34m(\u001b[0m\u001b[0ms\u001b[0m\u001b[0;34m,\u001b[0m \u001b[0mend\u001b[0m\u001b[0;34m)\u001b[0m\u001b[0;34m.\u001b[0m\u001b[0mend\u001b[0m\u001b[0;34m(\u001b[0m\u001b[0;34m)\u001b[0m\u001b[0;34m\u001b[0m\u001b[0;34m\u001b[0m\u001b[0m\n\u001b[1;32m    341\u001b[0m         \u001b[0;32mif\u001b[0m \u001b[0mend\u001b[0m \u001b[0;34m!=\u001b[0m \u001b[0mlen\u001b[0m\u001b[0;34m(\u001b[0m\u001b[0ms\u001b[0m\u001b[0;34m)\u001b[0m\u001b[0;34m:\u001b[0m\u001b[0;34m\u001b[0m\u001b[0;34m\u001b[0m\u001b[0m\n",
      "\u001b[0;32m/usr/lib/python3.6/json/decoder.py\u001b[0m in \u001b[0;36mraw_decode\u001b[0;34m(self, s, idx)\u001b[0m\n\u001b[1;32m    353\u001b[0m         \"\"\"\n\u001b[1;32m    354\u001b[0m         \u001b[0;32mtry\u001b[0m\u001b[0;34m:\u001b[0m\u001b[0;34m\u001b[0m\u001b[0;34m\u001b[0m\u001b[0m\n\u001b[0;32m--> 355\u001b[0;31m             \u001b[0mobj\u001b[0m\u001b[0;34m,\u001b[0m \u001b[0mend\u001b[0m \u001b[0;34m=\u001b[0m \u001b[0mself\u001b[0m\u001b[0;34m.\u001b[0m\u001b[0mscan_once\u001b[0m\u001b[0;34m(\u001b[0m\u001b[0ms\u001b[0m\u001b[0;34m,\u001b[0m \u001b[0midx\u001b[0m\u001b[0;34m)\u001b[0m\u001b[0;34m\u001b[0m\u001b[0;34m\u001b[0m\u001b[0m\n\u001b[0m\u001b[1;32m    356\u001b[0m         \u001b[0;32mexcept\u001b[0m \u001b[0mStopIteration\u001b[0m \u001b[0;32mas\u001b[0m \u001b[0merr\u001b[0m\u001b[0;34m:\u001b[0m\u001b[0;34m\u001b[0m\u001b[0;34m\u001b[0m\u001b[0m\n\u001b[1;32m    357\u001b[0m             \u001b[0;32mraise\u001b[0m \u001b[0mJSONDecodeError\u001b[0m\u001b[0;34m(\u001b[0m\u001b[0;34m\"Expecting value\"\u001b[0m\u001b[0;34m,\u001b[0m \u001b[0ms\u001b[0m\u001b[0;34m,\u001b[0m \u001b[0merr\u001b[0m\u001b[0;34m.\u001b[0m\u001b[0mvalue\u001b[0m\u001b[0;34m)\u001b[0m \u001b[0;32mfrom\u001b[0m \u001b[0;32mNone\u001b[0m\u001b[0;34m\u001b[0m\u001b[0;34m\u001b[0m\u001b[0m\n",
      "\u001b[0;31mKeyboardInterrupt\u001b[0m: "
     ]
    }
   ],
   "source": [
    "all_test_data = []\n",
    "all_test_data_append = all_test_data.append\n",
    "with open(test_f, 'r') as testfile:\n",
    "    for row in testfile:\n",
    "        result = json.loads(row)\n",
    "        metrics = result['metrics']\n",
    "        # metrics is a list of observations over each 100 steps\n",
    "        for m in metrics:\n",
    "            all_test_data_append(m)\n",
    "all_test_data = np.array(all_test_data)\n",
    "test_m = np.mean(all_test_data,0)\n",
    "test_std = np.std(all_test_data,0)\n",
    "print(test_m.shape,test_std.shape)\n",
    "print(test_m,test_std)"
   ]
  },
  {
   "cell_type": "code",
   "execution_count": 8,
   "metadata": {
    "pycharm": {
     "is_executing": false,
     "name": "#%%\n"
    }
   },
   "outputs": [
    {
     "ename": "AttributeError",
     "evalue": "'list' object has no attribute 'shape'",
     "output_type": "error",
     "traceback": [
      "\u001b[0;31m---------------------------------------------------------------------------\u001b[0m",
      "\u001b[0;31mAttributeError\u001b[0m                            Traceback (most recent call last)",
      "\u001b[0;32m<ipython-input-8-a704a87023da>\u001b[0m in \u001b[0;36m<module>\u001b[0;34m\u001b[0m\n\u001b[1;32m     28\u001b[0m \u001b[0;31m# for i in range(len(test_labels)):\u001b[0m\u001b[0;34m\u001b[0m\u001b[0;34m\u001b[0m\u001b[0;34m\u001b[0m\u001b[0m\n\u001b[1;32m     29\u001b[0m \u001b[0;31m#     test_labels[i] = str(np.array(test_labels[i], dtype=float))\u001b[0m\u001b[0;34m\u001b[0m\u001b[0;34m\u001b[0m\u001b[0;34m\u001b[0m\u001b[0m\n\u001b[0;32m---> 30\u001b[0;31m \u001b[0mprint\u001b[0m\u001b[0;34m(\u001b[0m\u001b[0mtest_trajectories\u001b[0m\u001b[0;34m.\u001b[0m\u001b[0mshape\u001b[0m\u001b[0;34m,\u001b[0m \u001b[0mlen\u001b[0m\u001b[0;34m(\u001b[0m\u001b[0mtest_labels\u001b[0m\u001b[0;34m)\u001b[0m\u001b[0;34m)\u001b[0m\u001b[0;34m\u001b[0m\u001b[0;34m\u001b[0m\u001b[0m\n\u001b[0m",
      "\u001b[0;31mAttributeError\u001b[0m: 'list' object has no attribute 'shape'"
     ]
    }
   ],
   "source": [
    "test_trajectories = []\n",
    "test_labels = []\n",
    "test_dict = {}\n",
    "with open(test_f, 'r') as testfile:\n",
    "    counter = 0\n",
    "    for row in testfile:\n",
    "        result = json.loads(row)\n",
    "        metrics = result['metrics']\n",
    "        raw_label = str(list(map(float,result['task'])))\n",
    "        label = str(np.array(result['task'], dtype=float))\n",
    "        test_trajectories.append(metrics)\n",
    "        test_labels.append(label)\n",
    "        if raw_label in test_dict:\n",
    "            test_dict[raw_label] += metrics[:]\n",
    "        else:\n",
    "            test_dict[raw_label] = metrics[:]\n",
    "\n",
    "test_test_set = []\n",
    "for label, flattened_trajectories in test_dict.items():\n",
    "    original_length = len(flattened_trajectories)\n",
    "    leave_out_i = np.random.randint((len(flattened_trajectories)-1)/100) # skip the last one, which could be < 100\n",
    "    left_out = flattened_trajectories[leave_out_i:leave_out_i+100]\n",
    "    test_dict[label] = np.delete(flattened_trajectories,list(range(leave_out_i,leave_out_i+100)),0)\n",
    "    test_test_set.append((left_out,label))\n",
    "    assert len(test_dict[label]) + 100 == original_length\n"
   ]
  },
  {
   "cell_type": "code",
   "execution_count": 10,
   "metadata": {
    "pycharm": {
     "is_executing": false
    }
   },
   "outputs": [
    {
     "name": "stdout",
     "output_type": "stream",
     "text": [
      "(14643, 100, 5) 14643\n"
     ]
    }
   ],
   "source": [
    "#NOTE: the train trajectories take out the test sample before creating trajectories, this does not\n",
    "test_trajectories = np.array(test_trajectories)\n",
    "# for i in range(len(test_labels)):\n",
    "#     test_labels[i] = str(np.array(test_labels[i], dtype=float))\n",
    "print(test_trajectories.shape, len(test_labels))"
   ]
  },
  {
   "cell_type": "code",
   "execution_count": 11,
   "metadata": {},
   "outputs": [
    {
     "data": {
      "text/plain": [
       "243"
      ]
     },
     "execution_count": 11,
     "metadata": {},
     "output_type": "execute_result"
    }
   ],
   "source": [
    "len(train_test_set)"
   ]
  },
  {
   "cell_type": "code",
   "execution_count": 12,
   "metadata": {},
   "outputs": [
    {
     "name": "stdout",
     "output_type": "stream",
     "text": [
      "(14258, 5)\n",
      "(14750, 5)\n",
      "(13146, 5)\n",
      "(13469, 5)\n",
      "(13537, 5)\n",
      "(14022, 5)\n",
      "(14376, 5)\n",
      "(15279, 5)\n",
      "(12967, 5)\n",
      "(13554, 5)\n",
      "(13160, 5)\n",
      "(14128, 5)\n",
      "(12565, 5)\n",
      "(14338, 5)\n",
      "(13148, 5)\n",
      "(14272, 5)\n",
      "(13195, 5)\n",
      "(14510, 5)\n",
      "(14224, 5)\n",
      "(13504, 5)\n",
      "(13753, 5)\n",
      "(13978, 5)\n",
      "(12880, 5)\n",
      "(12765, 5)\n",
      "(13800, 5)\n",
      "(12875, 5)\n",
      "(13227, 5)\n",
      "(13417, 5)\n",
      "(12800, 5)\n",
      "(14361, 5)\n",
      "(14522, 5)\n",
      "(15369, 5)\n",
      "(13477, 5)\n",
      "(13234, 5)\n",
      "(13415, 5)\n",
      "(15152, 5)\n",
      "(14162, 5)\n",
      "(15027, 5)\n",
      "(14362, 5)\n",
      "(13733, 5)\n",
      "(13555, 5)\n",
      "(15075, 5)\n",
      "(12705, 5)\n",
      "(13818, 5)\n",
      "(12957, 5)\n",
      "(14691, 5)\n",
      "(13504, 5)\n",
      "(13823, 5)\n",
      "(14078, 5)\n",
      "(15024, 5)\n",
      "(14334, 5)\n",
      "(15280, 5)\n",
      "(14351, 5)\n",
      "(14054, 5)\n",
      "(13746, 5)\n",
      "(14700, 5)\n",
      "(14782, 5)\n",
      "(14327, 5)\n",
      "(13686, 5)\n",
      "(14037, 5)\n",
      "(15038, 5)\n",
      "(14475, 5)\n",
      "(14526, 5)\n",
      "(14659, 5)\n",
      "(14301, 5)\n",
      "(15029, 5)\n",
      "(13721, 5)\n",
      "(13454, 5)\n",
      "(13267, 5)\n",
      "(13746, 5)\n",
      "(13884, 5)\n",
      "(13932, 5)\n",
      "(13686, 5)\n",
      "(14016, 5)\n",
      "(14204, 5)\n",
      "(14030, 5)\n",
      "(13328, 5)\n",
      "(14967, 5)\n",
      "(14602, 5)\n",
      "(14358, 5)\n",
      "(14481, 5)\n",
      "(14201, 5)\n",
      "(15095, 5)\n",
      "(13216, 5)\n",
      "(14323, 5)\n",
      "(15068, 5)\n",
      "(13186, 5)\n",
      "(12891, 5)\n",
      "(14314, 5)\n",
      "(14624, 5)\n",
      "(12896, 5)\n",
      "(12458, 5)\n",
      "(13677, 5)\n",
      "(13169, 5)\n",
      "(14375, 5)\n",
      "(13383, 5)\n",
      "(14172, 5)\n",
      "(14522, 5)\n",
      "(14125, 5)\n",
      "(13701, 5)\n",
      "(13646, 5)\n",
      "(13442, 5)\n",
      "(12618, 5)\n",
      "(14147, 5)\n",
      "(13072, 5)\n",
      "(14292, 5)\n",
      "(14687, 5)\n",
      "(11972, 5)\n",
      "(13822, 5)\n",
      "(13688, 5)\n",
      "(14208, 5)\n",
      "(14559, 5)\n",
      "(13464, 5)\n",
      "(14673, 5)\n",
      "(14777, 5)\n",
      "(13933, 5)\n",
      "(14280, 5)\n",
      "(14552, 5)\n",
      "(13365, 5)\n",
      "(14288, 5)\n",
      "(14657, 5)\n",
      "(13446, 5)\n",
      "(13967, 5)\n",
      "(13657, 5)\n",
      "(14321, 5)\n",
      "(13455, 5)\n",
      "(14758, 5)\n",
      "(14324, 5)\n",
      "(14075, 5)\n",
      "(14023, 5)\n",
      "(13414, 5)\n",
      "(13803, 5)\n",
      "(14414, 5)\n",
      "(13611, 5)\n",
      "(14694, 5)\n",
      "(14572, 5)\n",
      "(15097, 5)\n",
      "(12749, 5)\n",
      "(14201, 5)\n",
      "(14142, 5)\n",
      "(15454, 5)\n",
      "(13349, 5)\n",
      "(13936, 5)\n",
      "(13678, 5)\n",
      "(14177, 5)\n",
      "(15036, 5)\n",
      "(14231, 5)\n",
      "(14014, 5)\n",
      "(14834, 5)\n",
      "(14181, 5)\n",
      "(12261, 5)\n",
      "(13326, 5)\n",
      "(13705, 5)\n",
      "(13619, 5)\n",
      "(13942, 5)\n",
      "(14498, 5)\n",
      "(13929, 5)\n",
      "(13765, 5)\n",
      "(14512, 5)\n",
      "(14143, 5)\n",
      "(14805, 5)\n",
      "(13971, 5)\n",
      "(14268, 5)\n",
      "(14647, 5)\n",
      "(14460, 5)\n",
      "(13846, 5)\n",
      "(15040, 5)\n",
      "(13310, 5)\n",
      "(13808, 5)\n",
      "(14470, 5)\n",
      "(14351, 5)\n",
      "(13499, 5)\n",
      "(13806, 5)\n",
      "(14115, 5)\n",
      "(14430, 5)\n",
      "(12924, 5)\n",
      "(11297, 5)\n",
      "(13769, 5)\n",
      "(13927, 5)\n",
      "(14417, 5)\n",
      "(12538, 5)\n",
      "(14333, 5)\n",
      "(13833, 5)\n",
      "(13315, 5)\n",
      "(14487, 5)\n",
      "(13616, 5)\n",
      "(13571, 5)\n",
      "(14705, 5)\n",
      "(13765, 5)\n",
      "(14273, 5)\n",
      "(14538, 5)\n",
      "(12996, 5)\n",
      "(13469, 5)\n",
      "(14157, 5)\n",
      "(13589, 5)\n",
      "(14219, 5)\n",
      "(15167, 5)\n",
      "(13473, 5)\n",
      "(14484, 5)\n",
      "(14363, 5)\n",
      "(13475, 5)\n",
      "(14222, 5)\n",
      "(14363, 5)\n",
      "(14266, 5)\n",
      "(13695, 5)\n",
      "(12666, 5)\n",
      "(14396, 5)\n",
      "(14123, 5)\n",
      "(13555, 5)\n",
      "(13589, 5)\n",
      "(14516, 5)\n",
      "(14215, 5)\n",
      "(14163, 5)\n",
      "(13657, 5)\n",
      "(13721, 5)\n",
      "(13457, 5)\n",
      "(15300, 5)\n",
      "(13203, 5)\n",
      "(14558, 5)\n",
      "(14931, 5)\n",
      "(13609, 5)\n",
      "(14571, 5)\n",
      "(14366, 5)\n",
      "(14404, 5)\n",
      "(15332, 5)\n",
      "(15025, 5)\n",
      "(13969, 5)\n",
      "(14395, 5)\n",
      "(14739, 5)\n",
      "(14169, 5)\n",
      "(14516, 5)\n",
      "(13625, 5)\n",
      "(14314, 5)\n",
      "(14333, 5)\n",
      "(13728, 5)\n",
      "(14277, 5)\n",
      "(14454, 5)\n",
      "(13538, 5)\n",
      "(14549, 5)\n",
      "(14299, 5)\n",
      "(13900, 5)\n",
      "(13604, 5)\n",
      "(13521, 5)\n"
     ]
    }
   ],
   "source": [
    "combined_train_test_dict = {}\n",
    "for key in training_dict.keys():\n",
    "    combined_train_test_dict[key] = np.concatenate([training_dict[key],test_dict[key]])\n",
    "    assert combined_train_test_dict[key].shape[-1] == 5\n",
    "    print(combined_train_test_dict[key].shape)\n",
    "    "
   ]
  },
  {
   "cell_type": "code",
   "execution_count": 45,
   "metadata": {},
   "outputs": [],
   "source": [
    "with open('test_data.pkl','wb+') as outfile:\n",
    "    pkl.dump((test_trajectories,test_labels),outfile)"
   ]
  },
  {
   "cell_type": "code",
   "execution_count": 7,
   "metadata": {
    "pycharm": {
     "is_executing": false,
     "name": "#%%\n"
    }
   },
   "outputs": [],
   "source": [
    "def metric_standardize(data, m, std):\n",
    "    data = np.array(data)\n",
    "    return (data - m)/std\n",
    "#     if len(data.shape) > 1:\n",
    "#         # print(data[:,0].reshape(len(data),1).shape)\n",
    "#         # print(data[:,2:].shape)\n",
    "#         #trunc_data = np.concatenate((data[:,:3],data[:,4:]),1)\n",
    "#         #trunc_data = np.concatenate((data[:,:1],data[:,2:]),1)\n",
    "#         trunc_data = data[:,:-1]\n",
    "#         assert data.shape[1] == 5\n",
    "#     else:\n",
    "#         #trunc_data = np.concatenate((data[:1],data[2:]))\n",
    "#         trunc_data = data[:-1]\n",
    "#         assert data.shape[0] == 5\n",
    "# #     mean = np.concatenate((m[:1],m[2:]))\n",
    "# #     std_dev = np.concatenate((std[:1],std[2:]))\n",
    "#     mean = m[:-1]\n",
    "#     std_dev = std[:-1]\n",
    "#     return (trunc_data - mean)/std_dev\n",
    "    \n",
    "#     if len(data.shape) > 1:\n",
    "#         return (data[:,:-1] - m[:-1])/std[:-1]\n",
    "#     else:\n",
    "#         return (data[:-1] - m[:-1])/std[:-1]\n",
    "    #return data\n",
    "kde_dict = {}\n",
    "#for task in test_dict.keys():\n",
    "for task in training_dict.keys():\n",
    "#for task in combined_train_test_dict.keys():\n",
    "    task_str = str(np.array(eval(task)))\n",
    "    task_data = training_dict[str(task)]\n",
    "    #task_data = test_dict[str(task)]\n",
    "    #task_data = combined_train_test_dict[str(task)]\n",
    "    task_data = metric_standardize(task_data, standard_m, standard_std)\n",
    "    task_kde = KernelDensity(kernel = 'gaussian', bandwidth=0.1).fit(task_data)\n",
    "    kde_dict[task_str] = task_kde #task_obs_fun\n",
    "\n",
    "# generate tasks\n",
    "tasks = list(map(np.array,itertools.product([-1., 0., 1.], [-1., 0., 1.], [-1., 0., 1.], [-1., 0., 1.], [-1., 0., 1.])))\n",
    "# tasks = []\n",
    "task_strings = {str(task): task for task in tasks}\n",
    "task_strings = list(map(str2arr, task_strings))\n",
    "task_strings = list(map(str, hierarchical_sort(task_strings)))\n",
    "task_dict = {tstr : str2arr(tstr) for tstr in task_strings}    \n",
    "\n",
    "task_neighborhood_size_dict = {}\n",
    "for tstr in task_strings:\n",
    "    task_arr = task_dict[tstr]\n",
    "    num_neighbors = 0\n",
    "    for metric in task_arr:\n",
    "        if metric == 0:\n",
    "            num_neighbors += 2\n",
    "        elif metric == -1 or metric == 1:\n",
    "            num_neighbors += 1\n",
    "        else:\n",
    "            raise ValueError(\"metric was not in {-1, 0, 1}\")\n",
    "    task_neighborhood_size_dict[tstr] = num_neighbors\n",
    "\n",
    "zero_prob = 1/243\n",
    "low_prob = 72/243\n",
    "high_prob = 170/243\n",
    "\n",
    "def t_func(task_from, task_to, action):\n",
    "    t0 = task_dict[task_from]\n",
    "    t1 = task_dict[task_to]\n",
    "    diff = np.linalg.norm(t1-t0,1) # get the 1-norm difference (sum of abs values of elements)\n",
    "    # if more than 1 away, prob is 1/243\n",
    "    if diff > 1:\n",
    "        return zero_prob/(243-task_neighborhood_size_dict[task_from]-1) #uniformly distribute over the non-neighbors\n",
    "    elif diff == 1:\n",
    "        return low_prob/(task_neighborhood_size_dict[task_from])\n",
    "    elif diff == 0:\n",
    "        return high_prob # only one of these\n",
    "    else:\n",
    "        raise(ValueError(\"There is something wrong with the norm, got a negative l1 norm for {} and {}\".format(t0,t1)))\n",
    "\n",
    "def o_func(observation,task):\n",
    "    return np.exp(kde_dict[str(task)].score(observation.reshape(1,len(observation))))"
   ]
  },
  {
   "cell_type": "code",
   "execution_count": 34,
   "metadata": {},
   "outputs": [
    {
     "data": {
      "text/plain": [
       "'[1.0, 0.0, 1.0, -1.0, 0.0]'"
      ]
     },
     "execution_count": 34,
     "metadata": {},
     "output_type": "execute_result"
    }
   ],
   "source": [
    "str(list(map(float,result['task'])))"
   ]
  },
  {
   "cell_type": "code",
   "execution_count": 83,
   "metadata": {},
   "outputs": [
    {
     "data": {
      "text/plain": [
       "array([1., 1., 1., 1., 1.])"
      ]
     },
     "execution_count": 83,
     "metadata": {},
     "output_type": "execute_result"
    }
   ],
   "source": [
    "str2arr(task_strings[0])"
   ]
  },
  {
   "cell_type": "code",
   "execution_count": 84,
   "metadata": {
    "pycharm": {
     "is_executing": false,
     "name": "#%%\n"
    }
   },
   "outputs": [],
   "source": []
  },
  {
   "cell_type": "code",
   "execution_count": null,
   "metadata": {
    "pycharm": {
     "is_executing": false,
     "name": "#%%\n"
    }
   },
   "outputs": [],
   "source": [
    "b = BayesFilter(task_strings,t_func,o_func)"
   ]
  },
  {
   "cell_type": "code",
   "execution_count": 16,
   "metadata": {
    "pycharm": {
     "is_executing": false,
     "name": "#%%\n"
    }
   },
   "outputs": [],
   "source": [
    "# Results queue\n",
    "RESULTS_QUEUE = Queue()\n",
    "# Status queue\n",
    "STATUS_QUEUE = Queue() \n",
    "\n",
    "def filter_trajectory(trajectory_tuples):\n",
    "    # tuples are (trajectory, label)\n",
    "    trajectory, label = trajectory_tuples\n",
    "    print(len(trajectory))\n",
    "    targets = []\n",
    "    targets_append = targets.append\n",
    "    predictions = []\n",
    "    predictions_append = predictions.append\n",
    "    bf = BayesFilter(task_strings,t_func,o_func)\n",
    "    for step in trajectory:\n",
    "        #belief_star = bf.prediction_step(action=None)\n",
    "        standardized_step = metric_standardize(step, standard_m, standard_std)\n",
    "        belief = bf.observation_step(standardized_step)\n",
    "        prediction = max(belief, key=lambda x :belief[x])\n",
    "        #print(\"Target: {}, Prediction: {}\".format(label,prediction))\n",
    "        targets_append(label)\n",
    "        predictions_append(prediction)\n",
    "        STATUS_QUEUE.put(1)\n",
    "    #RESULTS_QUEUE.put((targets, predictions))\n",
    "    return targets, predictions\n",
    "\n",
    "def progress_monitor(n_steps):\n",
    "    for i in tqdm_notebook(range(n_steps)):\n",
    "        STATUS_QUEUE.get()"
   ]
  },
  {
   "cell_type": "code",
   "execution_count": 16,
   "metadata": {
    "pycharm": {
     "is_executing": false,
     "name": "#%%\n"
    }
   },
   "outputs": [
    {
     "name": "stdout",
     "output_type": "stream",
     "text": [
      "243 14643\n"
     ]
    }
   ],
   "source": [
    "task_freq = {task_str : 0 for task_str in task_strings}\n",
    "num_satisfied = 0\n",
    "num_each = 1\n",
    "abbreviated_trajectories = []\n",
    "abbreviated_labels = []\n",
    "for i, label in enumerate(test_labels):\n",
    "    if num_satisfied >= len(task_strings):\n",
    "        break\n",
    "    elif task_freq[label] >= num_each:\n",
    "        if task_freq[label] == num_each:\n",
    "            # only check equal to prevent retriggering (we increment each step)\n",
    "            num_satisfied += 1\n",
    "        # otherwise just ignore\n",
    "    else:\n",
    "        abbreviated_trajectories.append(test_trajectories[i])\n",
    "        abbreviated_labels.append(label)\n",
    "    task_freq[label] += 1\n",
    "print(len(abbreviated_trajectories), len(test_trajectories))"
   ]
  },
  {
   "cell_type": "code",
   "execution_count": 239,
   "metadata": {
    "scrolled": true
   },
   "outputs": [
    {
     "data": {
      "text/plain": [
       "6500"
      ]
     },
     "execution_count": 239,
     "metadata": {},
     "output_type": "execute_result"
    }
   ],
   "source": [
    "len(test_trajectories[100])"
   ]
  },
  {
   "cell_type": "code",
   "execution_count": 17,
   "metadata": {},
   "outputs": [],
   "source": [
    "abbreviations = list(zip(abbreviated_trajectories,abbreviated_labels))\n"
   ]
  },
  {
   "cell_type": "code",
   "execution_count": 54,
   "metadata": {},
   "outputs": [],
   "source": [
    "abbreviations = []\n",
    "for key, trials in training_dict.items():\n",
    "    choice = np.random.randint(len(trials)) // 100 * 100 # hacky way of getting to a multiple of a hundred\n",
    "    if len(trials) - choice < 100:\n",
    "        choice -= 100\n",
    "    abbreviations.append((trials[choice:choice+100],key))"
   ]
  },
  {
   "cell_type": "code",
   "execution_count": 18,
   "metadata": {},
   "outputs": [
    {
     "data": {
      "text/plain": [
       "100"
      ]
     },
     "execution_count": 18,
     "metadata": {},
     "output_type": "execute_result"
    }
   ],
   "source": [
    "len(abbreviated_trajectories[0])"
   ]
  },
  {
   "cell_type": "code",
   "execution_count": 17,
   "metadata": {
    "pycharm": {
     "is_executing": false,
     "name": "#%%\n"
    }
   },
   "outputs": [
    {
     "name": "stdout",
     "output_type": "stream",
     "text": [
      "starting\n"
     ]
    },
    {
     "data": {
      "application/vnd.jupyter.widget-view+json": {
       "model_id": "99414d9508da48b18e323a2dacf0d7a9",
       "version_major": 2,
       "version_minor": 0
      },
      "text/plain": [
       "HBox(children=(IntProgress(value=0, max=24300), HTML(value='')))"
      ]
     },
     "metadata": {},
     "output_type": "display_data"
    },
    {
     "name": "stdout",
     "output_type": "stream",
     "text": [
      "100\n",
      "100\n",
      "100\n",
      "100\n",
      "100\n",
      "100\n",
      "100\n",
      "100\n",
      "100\n",
      "100\n",
      "100\n",
      "100\n",
      "100\n",
      "100\n",
      "100\n",
      "100\n",
      "100\n",
      "100\n",
      "100\n",
      "100\n",
      "100\n",
      "100\n",
      "100\n",
      "100\n",
      "100\n",
      "100\n",
      "100\n",
      "100\n",
      "100\n",
      "100\n",
      "100\n",
      "100\n",
      "100\n",
      "100\n",
      "100\n",
      "100\n",
      "100\n",
      "100\n",
      "100\n",
      "100\n",
      "100\n",
      "100\n",
      "100\n",
      "100\n",
      "100\n",
      "100\n",
      "100\n",
      "100\n",
      "100\n",
      "100\n",
      "100\n",
      "100\n",
      "100\n",
      "100\n",
      "100\n",
      "100\n",
      "100\n",
      "100\n",
      "100\n",
      "100\n",
      "100\n",
      "100\n",
      "100\n",
      "100\n",
      "100\n",
      "100\n",
      "100\n",
      "100\n",
      "100\n",
      "100\n",
      "100\n",
      "100\n",
      "100\n",
      "100\n",
      "100\n",
      "100\n",
      "100\n",
      "100\n",
      "100\n",
      "100\n",
      "100\n",
      "100\n",
      "100\n",
      "100\n",
      "100\n",
      "100\n",
      "100\n",
      "100\n",
      "100\n",
      "100\n",
      "100\n",
      "100\n",
      "100\n",
      "100\n",
      "100\n",
      "100\n",
      "100\n",
      "100\n",
      "100\n",
      "100\n",
      "100\n",
      "100\n",
      "100\n",
      "100\n",
      "100\n",
      "100\n",
      "100\n",
      "100\n",
      "100\n",
      "100\n",
      "100\n",
      "100\n",
      "100\n",
      "100\n",
      "100\n",
      "100\n",
      "100\n",
      "100\n",
      "100\n",
      "100\n",
      "100\n",
      "100\n",
      "100\n",
      "100\n",
      "100\n",
      "100\n",
      "100\n",
      "100\n",
      "100\n",
      "100\n",
      "100\n",
      "100\n",
      "100\n",
      "100\n",
      "100\n",
      "100\n",
      "100\n",
      "100\n",
      "100\n",
      "100\n",
      "100\n",
      "100\n",
      "100\n",
      "100\n",
      "100\n",
      "100\n",
      "100\n",
      "100\n",
      "100\n",
      "100\n",
      "100\n",
      "100\n",
      "100\n",
      "100\n",
      "100\n",
      "100\n",
      "100\n",
      "100\n",
      "100\n",
      "100\n",
      "100\n",
      "100\n",
      "100\n",
      "100\n",
      "100\n",
      "100\n",
      "100\n",
      "100\n",
      "100\n",
      "100\n",
      "100\n",
      "100\n",
      "100\n",
      "100\n",
      "100\n",
      "100\n",
      "100\n",
      "100\n",
      "100\n",
      "100\n",
      "100\n",
      "100\n",
      "100\n",
      "100\n",
      "100\n",
      "100\n",
      "100\n",
      "100\n",
      "100\n",
      "100\n",
      "100\n",
      "100\n",
      "100\n",
      "100\n",
      "100\n",
      "100\n",
      "100\n",
      "100\n",
      "100\n",
      "100\n",
      "100\n",
      "100\n",
      "100\n",
      "100\n",
      "100\n",
      "100\n",
      "100\n",
      "100\n",
      "100\n",
      "100\n",
      "100\n",
      "100\n",
      "100\n",
      "100\n",
      "100\n",
      "100\n",
      "100\n",
      "100\n",
      "100\n",
      "100\n",
      "100\n",
      "100\n",
      "100\n",
      "100\n",
      "100\n",
      "100\n",
      "100\n",
      "100\n",
      "100\n",
      "100\n",
      "100\n",
      "100\n",
      "100\n",
      "100\n",
      "100\n",
      "100\n",
      "100\n",
      "100\n",
      "100\n",
      "100\n",
      "100\n",
      "100\n",
      "100\n",
      "\n"
     ]
    }
   ],
   "source": [
    "RESULTS_QUEUE = Queue()\n",
    "STATUS_QUEUE = Queue()\n",
    "input_arr = train_test_set\n",
    "thread = Thread(target=progress_monitor, args=(len(input_arr)*100,))\n",
    "thread.start()\n",
    "print(\"starting\")\n",
    "results = None\n",
    "with Pool(8) as pool:\n",
    "        results = pool.map(filter_trajectory, input_arr)"
   ]
  },
  {
   "cell_type": "code",
   "execution_count": 22,
   "metadata": {},
   "outputs": [
    {
     "data": {
      "text/plain": [
       "2"
      ]
     },
     "execution_count": 22,
     "metadata": {},
     "output_type": "execute_result"
    }
   ],
   "source": [
    "len(results[0])"
   ]
  },
  {
   "cell_type": "code",
   "execution_count": null,
   "metadata": {},
   "outputs": [],
   "source": [
    "# # targets = []\n",
    "# # predictions = []\n",
    "# # targets_append = targets.append\n",
    "# # predictions_append = predictions.append\n",
    "# while RESULTS_QUEUE.qsize() != 0:\n",
    "#     print(\"popping\")\n",
    "#     traj_targets, traj_predictions = RESULTS_QUEUE.get()\n",
    "#     for t in traj_targets:\n",
    "#         targets_append(t)\n",
    "#     for p in traj_predictions:\n",
    "#         predictions_append(p)"
   ]
  },
  {
   "cell_type": "code",
   "execution_count": 18,
   "metadata": {},
   "outputs": [],
   "source": [
    "targets,predictions = zip(*results)"
   ]
  },
  {
   "cell_type": "code",
   "execution_count": 19,
   "metadata": {},
   "outputs": [],
   "source": [
    "targets = np.concatenate(targets)\n",
    "predictions = np.concatenate(predictions)\n"
   ]
  },
  {
   "cell_type": "code",
   "execution_count": 20,
   "metadata": {},
   "outputs": [
    {
     "data": {
      "text/plain": [
       "['[ 1.  0.  0.  0. -1.]',\n",
       " '[ 1.  0.  0.  0. -1.]',\n",
       " '[ 1.  0.  0.  0. -1.]',\n",
       " '[ 1.  0.  0.  0. -1.]',\n",
       " '[ 1.  0.  0.  0. -1.]',\n",
       " '[ 1.  0.  0.  0. -1.]',\n",
       " '[ 1.  0.  0.  0. -1.]',\n",
       " '[ 1.  0.  0.  0. -1.]',\n",
       " '[ 1.  0.  0.  0. -1.]',\n",
       " '[ 1.  0.  0.  0. -1.]']"
      ]
     },
     "execution_count": 20,
     "metadata": {},
     "output_type": "execute_result"
    }
   ],
   "source": [
    "targets[90:100]\n",
    "targets = [str(np.array(eval(t))) for t in targets]\n",
    "targets[90:100]"
   ]
  },
  {
   "cell_type": "code",
   "execution_count": 27,
   "metadata": {},
   "outputs": [
    {
     "data": {
      "text/plain": [
       "array(['[-1.  0.  0.  0.  1.]', '[-1.  0.  0.  0.  1.]',\n",
       "       '[-1.  0.  0.  0.  1.]', '[-1.  0.  0.  0.  1.]',\n",
       "       '[-1.  0.  0.  0.  1.]', '[-1.  0.  0.  0.  1.]',\n",
       "       '[-1.  0.  0.  0.  1.]', '[-1.  0.  0.  0.  1.]',\n",
       "       '[-1.  0.  0.  0.  1.]', '[-1.  0.  0.  0.  1.]'], dtype='<U21')"
      ]
     },
     "execution_count": 27,
     "metadata": {},
     "output_type": "execute_result"
    }
   ],
   "source": [
    "targets[90:100]\n",
    "predictions[90:100]"
   ]
  },
  {
   "cell_type": "code",
   "execution_count": null,
   "metadata": {
    "pycharm": {
     "is_executing": false,
     "name": "#%%\n"
    }
   },
   "outputs": [],
   "source": [
    "# targets = []\n",
    "# predictions = []\n",
    "# targets_append = targets.append\n",
    "# predictions_append = predictions.append\n",
    "# for i,trajectory in enumerate(test_trajectories):\n",
    "#     b = BayesFilter(task_strings,t_func,o_func)\n",
    "#     for step in trajectory:\n",
    "#         standardized_step = metric_standardize(step, test_m, test_std)\n",
    "#         belief = b.observation_step(standardized_step)\n",
    "#         prediction = max(belief, key=lambda x :belief[x])\n",
    "#         #print(\"Target: {}, Prediction: {}\".format(test_labels[i],prediction))\n",
    "#         targets_append(test_labels[i])\n",
    "#         predictions_append(prediction)"
   ]
  },
  {
   "cell_type": "code",
   "execution_count": 21,
   "metadata": {
    "pycharm": {
     "is_executing": false,
     "name": "#%%\n"
    }
   },
   "outputs": [
    {
     "name": "stdout",
     "output_type": "stream",
     "text": [
      "Simple_Accuracy: 5606/24300 = 0.23069958847736627\n"
     ]
    }
   ],
   "source": [
    "simple_accuracy = sum([1 if prediction == targets[i] else 0 for i,prediction in enumerate(predictions)])\n",
    "print(\"Simple_Accuracy: {}/{} = {}\".format(simple_accuracy,len(predictions),simple_accuracy/len(predictions)))"
   ]
  },
  {
   "cell_type": "code",
   "execution_count": 22,
   "metadata": {
    "pycharm": {
     "name": "#%%\n"
    }
   },
   "outputs": [],
   "source": [
    "cm = confusion_matrix(targets, predictions, labels=task_strings)"
   ]
  },
  {
   "cell_type": "code",
   "execution_count": 23,
   "metadata": {
    "pycharm": {
     "name": "#%%\n"
    }
   },
   "outputs": [
    {
     "name": "stdout",
     "output_type": "stream",
     "text": [
      "[0.   0.56 0.17 0.   0.   0.   0.   0.   0.   0.   0.   0.   0.   0.\n",
      " 0.   0.   0.   0.   0.   0.   0.   0.   0.   0.   0.   0.   0.   0.\n",
      " 0.   0.   0.   0.   0.   0.   0.   0.   0.   0.   0.   0.   0.   0.\n",
      " 0.   0.   0.   0.   0.   0.   0.   0.   0.   0.   0.   0.   0.   0.\n",
      " 0.   0.   0.   0.   0.   0.   0.   0.   0.   0.   0.   0.   0.   0.\n",
      " 0.   0.   0.   0.   0.   0.   0.   0.   0.   0.   0.   0.   0.02 0.\n",
      " 0.07 0.04 0.08 0.   0.   0.   0.   0.   0.   0.   0.   0.   0.   0.\n",
      " 0.   0.   0.   0.   0.   0.   0.   0.   0.   0.   0.   0.   0.   0.\n",
      " 0.   0.   0.   0.   0.   0.   0.   0.   0.   0.   0.   0.   0.   0.\n",
      " 0.   0.   0.   0.   0.   0.   0.   0.   0.   0.   0.   0.   0.   0.\n",
      " 0.   0.   0.   0.   0.   0.   0.   0.   0.   0.   0.   0.   0.   0.\n",
      " 0.   0.   0.   0.   0.   0.   0.   0.   0.05 0.   0.   0.   0.01 0.\n",
      " 0.   0.   0.   0.   0.   0.   0.   0.   0.   0.   0.   0.   0.   0.\n",
      " 0.   0.   0.   0.   0.   0.   0.   0.   0.   0.   0.   0.   0.   0.\n",
      " 0.   0.   0.   0.   0.   0.   0.   0.   0.   0.   0.   0.   0.   0.\n",
      " 0.   0.   0.   0.   0.   0.   0.   0.   0.   0.   0.   0.   0.   0.\n",
      " 0.   0.   0.   0.   0.   0.   0.   0.   0.   0.   0.   0.   0.   0.\n",
      " 0.   0.   0.   0.   0.  ]\n"
     ]
    },
    {
     "data": {
      "image/png": "[encoded data removed]",
      "text/plain": [
       "<Figure size 504x432 with 2 Axes>"
      ]
     },
     "metadata": {
      "needs_background": "light"
     },
     "output_type": "display_data"
    }
   ],
   "source": [
    "fig = plt.figure(figsize=(7, 6))\n",
    "xmin = 0 #192\n",
    "xmax = len(task_str) #218\n",
    "ymin = 0 #110\n",
    "ymax = len(task_str) #137\n",
    "cm = cm.astype(float)\n",
    "for row in range(cm.shape[0]):\n",
    "    tot_freq = np.sum(cm[row, :])\n",
    "    cm[row,:] = cm[row,:]/tot_freq\n",
    "print(cm[0, :])\n",
    "#sns.heatmap(cm, cmap='YlGnBu', square=1, annot=True, fmt=\"d\", linewidths=1, xticklabels=task_names, yticklabels=task_names)\n",
    "sns.heatmap(cm, cmap='YlGnBu', square=1)\n",
    "#sns.heatmap(cm[ymin:ymax, xmin:xmax], cmap='YlGnBu', square=1, annot=False, xticklabels=task_names[xmin:xmax], yticklabels=task_names[ymin:ymax])\n",
    "ax = plt.gca()\n",
    "ax.xaxis.tick_top()\n",
    "ax.tick_params(axis=\"x\", rotation=90)\n",
    "ax.tick_params(width=0)\n",
    "ax.xaxis.set_label_position('top')\n",
    "# plt.xticks(np.arange(len(task_names)), task_names, rotation=90)\n",
    "#plt.xlim(0, len(task_names))\n",
    "#plt.yticks(np.arange(len(task_names)), task_names, rotate=90)\n",
    "#plt.ylim(len(task_names), 0)  # inverted range for \"upper\" origin\n",
    "plt.ylabel('Target')\n",
    "plt.xlabel('Prediction')\n",
    "plt.title('Multi-Objective Task Prediction with Gaussian KDE Emissions Model')\n",
    "plt.show()\n"
   ]
  },
  {
   "cell_type": "code",
   "execution_count": null,
   "metadata": {},
   "outputs": [],
   "source": []
  },
  {
   "cell_type": "code",
   "execution_count": null,
   "metadata": {},
   "outputs": [],
   "source": []
  }
 ],
 "metadata": {
  "kernelspec": {
   "display_name": "Python 3",
   "language": "python",
   "name": "python3"
  },
  "language_info": {
   "codemirror_mode": {
    "name": "ipython",
    "version": 3
   },
   "file_extension": ".py",
   "mimetype": "text/x-python",
   "name": "python",
   "nbconvert_exporter": "python",
   "pygments_lexer": "ipython3",
   "version": "3.6.8"
  },
  "pycharm": {
   "stem_cell": {
    "cell_type": "raw",
    "metadata": {
     "collapsed": false
    },
    "source": []
   }
  }
 },
 "nbformat": 4,
 "nbformat_minor": 1
}
